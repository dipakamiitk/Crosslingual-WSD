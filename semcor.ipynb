{
  "nbformat": 4,
  "nbformat_minor": 0,
  "metadata": {
    "colab": {
      "name": "semcor.ipynb",
      "provenance": [],
      "collapsed_sections": []
    },
    "kernelspec": {
      "name": "python3",
      "display_name": "Python 3"
    }
  },
  "cells": [
    {
      "cell_type": "code",
      "metadata": {
        "id": "LUnwCfxdS0zD",
        "outputId": "6b1ab89a-fb37-41ef-8ef9-75ffdb49db98",
        "colab": {
          "base_uri": "https://localhost:8080/"
        }
      },
      "source": [
        "!wget http://lcl.uniroma1.it/wsdeval/data/WSD_Training_Corpora.zip"
      ],
      "execution_count": 1,
      "outputs": [
        {
          "output_type": "stream",
          "text": [
            "--2020-11-04 14:43:04--  http://lcl.uniroma1.it/wsdeval/data/WSD_Training_Corpora.zip\n",
            "Resolving lcl.uniroma1.it (lcl.uniroma1.it)... 151.100.179.52\n",
            "Connecting to lcl.uniroma1.it (lcl.uniroma1.it)|151.100.179.52|:80... connected.\n",
            "HTTP request sent, awaiting response... 200 OK\n",
            "Length: 162807271 (155M) [application/zip]\n",
            "Saving to: ‘WSD_Training_Corpora.zip’\n",
            "\n",
            "WSD_Training_Corpor 100%[===================>] 155.26M   538KB/s    in 5m 1s   \n",
            "\n",
            "2020-11-04 14:48:09 (527 KB/s) - ‘WSD_Training_Corpora.zip’ saved [162807271/162807271]\n",
            "\n"
          ],
          "name": "stdout"
        }
      ]
    },
    {
      "cell_type": "code",
      "metadata": {
        "id": "AOAbrgy0Tkbs"
      },
      "source": [
        "# cd ./WS"
      ],
      "execution_count": null,
      "outputs": []
    },
    {
      "cell_type": "code",
      "metadata": {
        "id": "vqBwjfErT3GY",
        "outputId": "ffcc1bda-dbcf-41f7-94e7-34e9cad09a20",
        "colab": {
          "base_uri": "https://localhost:8080/"
        }
      },
      "source": [
        "!unzip WSD_Training_Corpora.zip"
      ],
      "execution_count": 2,
      "outputs": [
        {
          "output_type": "stream",
          "text": [
            "Archive:  WSD_Training_Corpora.zip\n",
            "   creating: WSD_Training_Corpora/\n",
            "  inflating: WSD_Training_Corpora/EACL17_WSD_EvaluationFramework.pdf  \n",
            "  inflating: WSD_Training_Corpora/README  \n",
            "   creating: WSD_Training_Corpora/SemCor/\n",
            "   creating: WSD_Training_Corpora/SemCor+OMSTI/\n",
            "  inflating: WSD_Training_Corpora/SemCor+OMSTI/semcor+omsti.data.xml  \n",
            "  inflating: WSD_Training_Corpora/SemCor+OMSTI/semcor+omsti.gold.key.txt  \n",
            "  inflating: WSD_Training_Corpora/SemCor/semcor.data.xml  \n",
            "  inflating: WSD_Training_Corpora/SemCor/semcor.gold.key.txt  \n"
          ],
          "name": "stdout"
        }
      ]
    },
    {
      "cell_type": "code",
      "metadata": {
        "id": "Vwm7nPDMT9lY"
      },
      "source": [
        ""
      ],
      "execution_count": null,
      "outputs": []
    },
    {
      "cell_type": "code",
      "metadata": {
        "id": "tyDtj81vUFO7",
        "outputId": "4a02a997-b60a-4dd5-8f12-99f3c1cf86a4",
        "colab": {
          "base_uri": "https://localhost:8080/"
        }
      },
      "source": [
        "cd ./WSD_Training_Corpora/SemCor/"
      ],
      "execution_count": 5,
      "outputs": [
        {
          "output_type": "stream",
          "text": [
            "/content/WSD_Training_Corpora/SemCor\n"
          ],
          "name": "stdout"
        }
      ]
    },
    {
      "cell_type": "code",
      "metadata": {
        "id": "R4Zeim1tUZ1H"
      },
      "source": [
        "import xml.dom.minidom\n",
        "doc = xml.dom.minidom.parse(\"semcor.data.xml\")"
      ],
      "execution_count": 6,
      "outputs": []
    },
    {
      "cell_type": "code",
      "metadata": {
        "id": "oKS73vEUUjV6",
        "outputId": "f93f4331-6d03-412b-fd93-e2744e940de1",
        "colab": {
          "base_uri": "https://localhost:8080/"
        }
      },
      "source": [
        "print (doc.nodeName)\n",
        "print (doc.firstChild.tagName)"
      ],
      "execution_count": 7,
      "outputs": [
        {
          "output_type": "stream",
          "text": [
            "#document\n",
            "corpus\n"
          ],
          "name": "stdout"
        }
      ]
    },
    {
      "cell_type": "code",
      "metadata": {
        "id": "qCOZagdUUtRq",
        "outputId": "d3cd358e-fb80-470f-e87f-3bf4e481d611",
        "colab": {
          "base_uri": "https://localhost:8080/"
        }
      },
      "source": [
        "expertise = doc.getElementsByTagName(\"corpus\")\n",
        "print (\"%d expertise:\" % expertise.length)\n",
        "for skill in expertise:\n",
        "    print (skill.getAttribute(\"name\"))"
      ],
      "execution_count": 8,
      "outputs": [
        {
          "output_type": "stream",
          "text": [
            "1 expertise:\n",
            "\n"
          ],
          "name": "stdout"
        }
      ]
    },
    {
      "cell_type": "code",
      "metadata": {
        "id": "VlWV6HXnUxSg",
        "outputId": "b51530e8-8dba-455a-85fa-5b9dd104411a",
        "colab": {
          "base_uri": "https://localhost:8080/"
        }
      },
      "source": [
        "import xml.etree.ElementTree as ET\n",
        "tree = ET.parse('semcor.data.xml')\n",
        "root = tree.getroot()\n",
        "\n",
        "# all items data\n",
        "print('Expertise Data:')\n"
      ],
      "execution_count": 9,
      "outputs": [
        {
          "output_type": "stream",
          "text": [
            "Expertise Data:\n"
          ],
          "name": "stdout"
        }
      ]
    },
    {
      "cell_type": "code",
      "metadata": {
        "id": "qihkys4lYD30"
      },
      "source": [
        ""
      ],
      "execution_count": 9,
      "outputs": []
    },
    {
      "cell_type": "code",
      "metadata": {
        "id": "HxkDaq8CYKcT"
      },
      "source": [
        "# for child in root:\n",
        "#   for sent in child:\n",
        "#     print(sent.tag, sent.attrib)\n",
        "#     breakroot.findall('country'):\n",
        "# for sent in root[0][0].findall('instance'):\n",
        "#   # print(sent.tag)\n",
        "#   print(sent.attrib['id'],sent.attrib['lemma'])\n",
        "\n",
        "# make_pairs(lemma1):\n",
        "#   for j in root[0][0]:\n",
        "\n",
        "\n",
        "# for sent in root[0][0].findall('instance'):\n",
        "#   id = sent.attrib['id']\n",
        "#   lemma = id_to_lemma[id]\n",
        "#   for lemmas in gold_labels:\n",
        "#     if(lemmas == lemma):\n",
        "#       make_pair(lemmas,lemma)\n",
        "\n"
      ],
      "execution_count": 10,
      "outputs": []
    },
    {
      "cell_type": "code",
      "metadata": {
        "id": "Od8EpfhnbUA5"
      },
      "source": [
        "# text=\"\"\n",
        "from collections import defaultdict\n",
        "id_to_sent = dict()\n",
        "id_to_POS = dict()\n",
        "id_to_position = dict()\n",
        "lemma_to_id = defaultdict(list)\n",
        "id_to_lemma = dict()\n",
        "\n",
        "for elem in root:\n",
        "  for subelem in elem:\n",
        "    text = \"\"\n",
        "    i=0\n",
        "    for j in subelem:\n",
        "      text=text + j.text + \" \"\n",
        "      i=i+1 + j.text.count(' ')\n",
        "      if(j.tag=='instance'):\n",
        "        id_to_position[j.attrib['id']] = i\n",
        "        lemma_to_id[j.attrib['lemma']].append(j.attrib['id'])\n",
        "    for j in subelem.findall('instance'):\n",
        "        id_to_sent[j.attrib['id']] = text\n",
        "        id_to_POS[j.attrib['id']] = j.attrib['pos']\n",
        "        id_to_lemma[j.attrib['id']] = j.attrib['lemma']\n",
        "    # print(text)\n",
        "    # break\n",
        "    # print(text)\n",
        "  \n",
        "  # break\n"
      ],
      "execution_count": 25,
      "outputs": []
    },
    {
      "cell_type": "code",
      "metadata": {
        "id": "Ou4UHzdUf7Rn",
        "outputId": "938c935b-274e-4896-d122-0bc7b0148a8a",
        "colab": {
          "base_uri": "https://localhost:8080/"
        }
      },
      "source": [
        "# print(id_to_sent['d010.s003.t004'])"
      ],
      "execution_count": null,
      "outputs": [
        {
          "output_type": "stream",
          "text": [
            "The breakdown of social homogeneity in inner city areas and the spread of inner city blight account for the decline of central city churches . \n"
          ],
          "name": "stdout"
        }
      ]
    },
    {
      "cell_type": "code",
      "metadata": {
        "id": "3sEvFlOHhhNW"
      },
      "source": [
        "id_to_wordnet_lemma = dict()\n",
        "\n",
        "with open(\"semcor.gold.key.txt\") as f:\n",
        "    for line in f:\n",
        "        # print(line)\n",
        "        # print(line.split(' '))\n",
        "        # break\n",
        "        d = line.split(' ')\n",
        "        for t in d[1:]:\n",
        "          id_to_wordnet_lemma[d[0]] = t[:len(t)-1]\n",
        "f.close()\n"
      ],
      "execution_count": 26,
      "outputs": []
    },
    {
      "cell_type": "code",
      "metadata": {
        "id": "_AW3qQrpi_k2",
        "outputId": "8689d0c7-bd98-4ff0-88ce-9f20790efb80",
        "colab": {
          "base_uri": "https://localhost:8080/"
        }
      },
      "source": [
        "print(id_to_lemma['d010.s003.t004'])\n",
        "print(\"HELLO\")"
      ],
      "execution_count": 27,
      "outputs": [
        {
          "output_type": "stream",
          "text": [
            "area\n",
            "HELLO\n"
          ],
          "name": "stdout"
        }
      ]
    },
    {
      "cell_type": "code",
      "metadata": {
        "id": "4sXYWXuVjtpe"
      },
      "source": [
        "# from collections import defaultdict\n",
        "\n",
        "# lemma_to_id= defaultdict(list)\n",
        "# for key, value in id_to_lemma.items():\n",
        "#     # print(value)\n",
        "#     # print(key)\n",
        "#     lemma_to_id[value].append(key)\n",
        "    # break"
      ],
      "execution_count": null,
      "outputs": []
    },
    {
      "cell_type": "code",
      "metadata": {
        "id": "Y-190rZkkC3E",
        "outputId": "76372ebc-faa4-4dcb-be11-c66e744bb6ff",
        "colab": {
          "base_uri": "https://localhost:8080/"
        }
      },
      "source": [
        "!ls"
      ],
      "execution_count": 52,
      "outputs": [
        {
          "output_type": "stream",
          "text": [
            "Split_WiC_dataset  WiC_dataset\t       WSD_Training_Corpora\n",
            "training_data.csv  WiC_dataset_shared\n"
          ],
          "name": "stdout"
        }
      ]
    },
    {
      "cell_type": "code",
      "metadata": {
        "id": "lGJZyk5kEoup"
      },
      "source": [
        "# cd \"../../drive/My Drive/datasets\"\n",
        "import os\n",
        "os.getcwd()\n",
        "os.chdir('../../drive/My Drive/datasets')\n",
        "# !ls"
      ],
      "execution_count": 51,
      "outputs": []
    },
    {
      "cell_type": "code",
      "metadata": {
        "id": "hfSR4X8fUe1K",
        "outputId": "56cff2ad-d894-4cb5-e3a9-444a54cfdd95",
        "colab": {
          "base_uri": "https://localhost:8080/"
        }
      },
      "source": [
        "print(len(lemma_to_id['long']))\n",
        "print(len(id_to_wordnet_lemma))\n",
        "print(len(lemma_to_id))\n",
        "for id in lemma_to_id:\n",
        "  print(id)\n",
        "  break\n",
        "print(lemma_to_id[\"long\"])\n",
        "print(len(lemma_to_id[\"be\"]))"
      ],
      "execution_count": 30,
      "outputs": [
        {
          "output_type": "stream",
          "text": [
            "20399\n",
            "long\n",
            "['d000.s000.t000', 'd000.s100.t002', 'd001.s081.t007', 'd002.s013.t006', 'd002.s039.t008', 'd002.s088.t004', 'd003.s012.t017', 'd004.s020.t003', 'd004.s027.t000', 'd004.s045.t005', 'd004.s058.t002', 'd004.s083.t002', 'd004.s093.t000', 'd005.s000.t012', 'd006.s080.t013', 'd007.s084.t004', 'd011.s015.t008', 'd011.s018.t004', 'd011.s156.t000', 'd016.s033.t004', 'd017.s000.t010', 'd017.s008.t003', 'd017.s036.t000', 'd017.s037.t000', 'd017.s040.t002', 'd017.s050.t007', 'd017.s050.t010', 'd018.s009.t005', 'd018.s031.t001', 'd018.s100.t014', 'd021.s090.t002', 'd022.s084.t019', 'd022.s114.t001', 'd023.s028.t002', 'd023.s075.t000', 'd025.s036.t001', 'd025.s130.t002', 'd027.s071.t007', 'd028.s108.t003', 'd028.s142.t001', 'd028.s142.t014', 'd029.s002.t008', 'd029.s058.t011', 'd031.s002.t004', 'd031.s006.t015', 'd032.s019.t000', 'd032.s142.t000', 'd032.s149.t001', 'd033.s058.t008', 'd034.s000.t001', 'd034.s020.t006', 'd034.s090.t001', 'd036.s089.t008', 'd036.s102.t011', 'd037.s043.t005', 'd039.s022.t003', 'd041.s009.t002', 'd041.s029.t000', 'd042.s019.t014', 'd042.s056.t012', 'd043.s031.t005', 'd043.s033.t000', 'd044.s032.t001', 'd044.s052.t004', 'd044.s068.t007', 'd048.s003.t002', 'd050.s003.t005', 'd050.s157.t002', 'd051.s024.t025', 'd051.s031.t004', 'd051.s036.t008', 'd052.s054.t012', 'd053.s004.t006', 'd053.s009.t002', 'd056.s103.t008', 'd058.s096.t000', 'd058.s098.t000', 'd062.s035.t006', 'd062.s043.t001', 'd062.s044.t012', 'd063.s000.t000', 'd063.s050.t008', 'd063.s072.t007', 'd063.s084.t000', 'd064.s002.t002', 'd064.s007.t003', 'd064.s031.t000', 'd064.s060.t000', 'd067.s059.t008', 'd068.s062.t002', 'd068.s086.t000', 'd068.s092.t003', 'd068.s092.t004', 'd069.s013.t008', 'd069.s013.t012', 'd074.s004.t003', 'd075.s035.t044', 'd076.s150.t006', 'd077.s080.t004', 'd077.s102.t020', 'd079.s009.t004', 'd079.s058.t000', 'd079.s129.t001', 'd079.s130.t001', 'd083.s043.t010', 'd083.s055.t003', 'd084.s036.t002', 'd084.s089.t002', 'd085.s013.t005', 'd086.s001.t002', 'd086.s013.t001', 'd087.s020.t007', 'd089.s009.t003', 'd090.s049.t000', 'd091.s102.t007', 'd096.s000.t021', 'd096.s012.t008', 'd097.s199.t000', 'd097.s200.t000', 'd099.s050.t005', 'd099.s061.t000', 'd099.s062.t000', 'd100.s073.t011', 'd101.s076.t006', 'd102.s012.t015', 'd103.s048.t002', 'd103.s087.t001', 'd103.s205.t003', 'd105.s036.t000', 'd107.s029.t006', 'd108.s071.t001', 'd110.s081.t009', 'd111.s000.t003', 'd111.s005.t002', 'd112.s033.t014', 'd113.s036.t008', 'd114.s010.t009', 'd114.s043.t001', 'd115.s041.t007', 'd115.s057.t002', 'd116.s057.t007', 'd116.s133.t009', 'd117.s003.t003', 'd117.s031.t009', 'd117.s051.t011', 'd117.s108.t005', 'd118.s076.t006', 'd119.s031.t003', 'd119.s032.t001', 'd119.s046.t001', 'd119.s046.t002', 'd119.s142.t001', 'd119.s143.t005', 'd121.s072.t004', 'd121.s080.t002', 'd121.s135.t008', 'd122.s066.t007', 'd122.s084.t002', 'd122.s110.t007', 'd122.s115.t005', 'd123.s031.t012', 'd123.s034.t007', 'd124.s067.t010', 'd125.s033.t013', 'd125.s054.t005', 'd126.s024.t003', 'd127.s010.t007', 'd129.s001.t021', 'd129.s011.t007', 'd129.s011.t018', 'd129.s017.t003', 'd129.s032.t009', 'd129.s044.t004', 'd129.s080.t020', 'd129.s081.t010', 'd130.s106.t003', 'd130.s131.t002', 'd134.s018.t010', 'd134.s027.t002', 'd134.s065.t014', 'd137.s080.t003', 'd138.s078.t013', 'd141.s006.t003', 'd141.s070.t008', 'd141.s087.t011', 'd143.s002.t015', 'd143.s051.t001', 'd144.s023.t003', 'd144.s047.t006', 'd144.s078.t001', 'd145.s047.t007', 'd148.s053.t000', 'd148.s054.t002', 'd148.s076.t003', 'd149.s014.t005', 'd150.s053.t003', 'd151.s044.t004', 'd152.s068.t007', 'd153.s029.t002', 'd155.s074.t000', 'd159.s067.t003', 'd160.s040.t007', 'd161.s016.t002', 'd161.s072.t005', 'd162.s002.t019', 'd164.s048.t008', 'd164.s058.t003', 'd165.s019.t001', 'd174.s046.t000', 'd174.s085.t001', 'd175.s104.t010', 'd176.s029.t006', 'd177.s012.t001', 'd177.s047.t012', 'd177.s059.t013', 'd177.s071.t003', 'd177.s104.t001', 'd178.s021.t005', 'd178.s021.t006', 'd178.s025.t005', 'd178.s042.t012', 'd178.s058.t010', 'd180.s099.t003', 'd183.s005.t009', 'd184.s050.t000', 'd347.s037.t000']\n",
            "15783\n"
          ],
          "name": "stdout"
        }
      ]
    },
    {
      "cell_type": "code",
      "metadata": {
        "id": "UExHbl-0wR3L",
        "outputId": "aab6bf37-d8e3-4716-f70f-d62604365d0f",
        "colab": {
          "base_uri": "https://localhost:8080/"
        }
      },
      "source": [
        "# for file_no in range(3,15):\n",
        "#   start = 10000*file_no+1\n",
        "#   end = start + 10000\n",
        "\n",
        "train = []\n",
        "gold = []\n",
        "j=0\n",
        "count_true=0\n",
        "count_false=0\n",
        "# curr=0\n",
        "for lemma in lemma_to_id:\n",
        "  # curr=curr+1\n",
        "  # if curr<start:\n",
        "  #   continue\n",
        "  # if curr>end:\n",
        "  #   break\n",
        "  # lemma = id_to_lemma[id]\n",
        "  # print(lemma,id,value,len(lemma_to_id[lemma]))\n",
        "  j=j+1\n",
        "  if(j%1000==0):\n",
        "    print(j)\n",
        "    # break\n",
        "  count=0\n",
        "  num=0\n",
        "  for i in lemma_to_id[lemma]:\n",
        "    synset = id_to_wordnet_lemma[i]\n",
        "    pos = id_to_POS[i]\n",
        "    num=num+1\n",
        "    if count>2000:\n",
        "      break\n",
        "    for k in lemma_to_id[lemma][num:]:\n",
        "      value = id_to_wordnet_lemma[k]\n",
        "      count=count+1\n",
        "      if id_to_POS[k]!=pos:\n",
        "        continue\n",
        "\n",
        "      label = False\n",
        "      if value == synset:\n",
        "        label = True\n",
        "        \n",
        "      if label==True:\n",
        "        count_true = count_true + 1\n",
        "        gold.append('T')\n",
        "\n",
        "      else:\n",
        "        count_false = count_false + 1\n",
        "        gold.append('F')\n",
        "      \n",
        "      train.append(lemma+ \"\\t\" + pos + \"\\t\" + str(id_to_position[i]-1)+ \"-\" + str(id_to_position[k]-1)+ \"\\t\" + str(id_to_sent[i])+ \"\\t\" + str(id_to_sent[k]))\n",
        "    # print(train)\n",
        "  # break\n",
        "with open('semcor.txt', 'w') as f:\n",
        "    for item in train:\n",
        "        f.write(\"%s\\n\" % item)\n",
        "with open('semcor_gold.txt', 'w') as f:\n",
        "    for item in gold:\n",
        "        f.write(\"%s\\n\" % item)\n",
        "print(count_true)\n",
        "print(count_false)"
      ],
      "execution_count": 57,
      "outputs": [
        {
          "output_type": "stream",
          "text": [
            "1000\n",
            "2000\n",
            "3000\n",
            "4000\n",
            "5000\n",
            "6000\n",
            "7000\n",
            "8000\n",
            "9000\n",
            "10000\n",
            "11000\n",
            "12000\n",
            "13000\n",
            "14000\n",
            "15000\n",
            "16000\n",
            "17000\n",
            "18000\n",
            "19000\n",
            "20000\n",
            "1195420\n",
            "788385\n"
          ],
          "name": "stdout"
        }
      ]
    },
    {
      "cell_type": "code",
      "metadata": {
        "id": "jbv2YlaFkGQp",
        "outputId": "1c6082a8-9529-44b3-b201-25da20255ef5",
        "colab": {
          "base_uri": "https://localhost:8080/",
          "height": 229
        }
      },
      "source": [
        "# for file_no in range(3,15):\n",
        "#   start = 10000*file_no+1\n",
        "#   end = start + 10000\n",
        "\n",
        "#   train = []\n",
        "#   j=0\n",
        "#   curr=0\n",
        "#   for (id,value) in id_to_wordnet_lemma.items():\n",
        "#     curr=curr+1\n",
        "#     if curr<start:\n",
        "#       continue\n",
        "#     if curr>end:\n",
        "#       break\n",
        "#     lemma = id_to_lemma[id]\n",
        "#     # print(lemma,id,value,len(lemma_to_id[lemma]))\n",
        "#     j=j+1\n",
        "#     if(j%1000==0):\n",
        "#       print(j)\n",
        "#     count=0\n",
        "#     num=0\n",
        "#     for i in lemma_to_id[lemma]:\n",
        "#       synset = id_to_wordnet_lemma[i]\n",
        "#       pos = id_to_POS[i]\n",
        "#       num=num+1\n",
        "#       if count>2000:\n",
        "#         break\n",
        "#       for k in lemma_to_id[lemma][num:]:\n",
        "#         value = id_to_wordnet_lemma[k]\n",
        "#         count=count+1\n",
        "#         if id_to_POS[k]!=pos:\n",
        "#           continue\n",
        "\n",
        "#         label = False\n",
        "#         if value == synset:\n",
        "#           label = True\n",
        "\n",
        "#         train.append(str(label) + \" \" + pos + \" \" + str(id_to_position[i])+ \" \" + str(id_to_position[k])+ \" \" + str(id_to_sent[i])+ \" \" + str(id_to_sent[k]))\n",
        "#       # print(train)\n",
        "#     # break\n",
        "#   with open('semcor.txt'+str(file_no), 'w') as f:\n",
        "#       for item in train:\n",
        "#           f.write(\"%s\\n\" % item)"
      ],
      "execution_count": 53,
      "outputs": [
        {
          "output_type": "error",
          "ename": "NameError",
          "evalue": "ignored",
          "traceback": [
            "\u001b[0;31m---------------------------------------------------------------------------\u001b[0m",
            "\u001b[0;31mNameError\u001b[0m                                 Traceback (most recent call last)",
            "\u001b[0;32m<ipython-input-53-66875cb61d4f>\u001b[0m in \u001b[0;36m<module>\u001b[0;34m()\u001b[0m\n\u001b[1;32m      6\u001b[0m   \u001b[0mj\u001b[0m\u001b[0;34m=\u001b[0m\u001b[0;36m0\u001b[0m\u001b[0;34m\u001b[0m\u001b[0;34m\u001b[0m\u001b[0m\n\u001b[1;32m      7\u001b[0m   \u001b[0mcurr\u001b[0m\u001b[0;34m=\u001b[0m\u001b[0;36m0\u001b[0m\u001b[0;34m\u001b[0m\u001b[0;34m\u001b[0m\u001b[0m\n\u001b[0;32m----> 8\u001b[0;31m   \u001b[0;32mfor\u001b[0m \u001b[0;34m(\u001b[0m\u001b[0mid\u001b[0m\u001b[0;34m,\u001b[0m\u001b[0mvalue\u001b[0m\u001b[0;34m)\u001b[0m \u001b[0;32min\u001b[0m \u001b[0milemma\u001b[0m\u001b[0;34m.\u001b[0m\u001b[0mitems\u001b[0m\u001b[0;34m(\u001b[0m\u001b[0;34m)\u001b[0m\u001b[0;34m:\u001b[0m\u001b[0;34m\u001b[0m\u001b[0;34m\u001b[0m\u001b[0m\n\u001b[0m\u001b[1;32m      9\u001b[0m     \u001b[0mcurr\u001b[0m\u001b[0;34m=\u001b[0m\u001b[0mcurr\u001b[0m\u001b[0;34m+\u001b[0m\u001b[0;36m1\u001b[0m\u001b[0;34m\u001b[0m\u001b[0;34m\u001b[0m\u001b[0m\n\u001b[1;32m     10\u001b[0m     \u001b[0;32mif\u001b[0m \u001b[0mcurr\u001b[0m\u001b[0;34m<\u001b[0m\u001b[0mstart\u001b[0m\u001b[0;34m:\u001b[0m\u001b[0;34m\u001b[0m\u001b[0;34m\u001b[0m\u001b[0m\n",
            "\u001b[0;31mNameError\u001b[0m: name 'ilemma' is not defined"
          ]
        }
      ]
    },
    {
      "cell_type": "code",
      "metadata": {
        "id": "1KSJSxNBRQuF",
        "outputId": "dfb3c7ad-67de-4e85-f63d-988b0fc20d25",
        "colab": {
          "base_uri": "https://localhost:8080/"
        }
      },
      "source": [
        "print(train)"
      ],
      "execution_count": null,
      "outputs": [
        {
          "output_type": "stream",
          "text": [
            "['True 2 2 How long has it been since you reviewed the objectives of your benefit and service program ?  How long has it been since you reviewed the objectives of your benefit and service program ? ', 'False 2 5 How long has it been since you reviewed the objectives of your benefit and service program ?  Vending machines can alleviate the long hike to the cafeteria during the break with resulting waste of production time . ', \"True 2 23 How long has it been since you reviewed the objectives of your benefit and service program ?  Two millions were added to what had been set aside for it in Mrs. Meeker 's lifetime , and the proviso made that as long as Brian Thayer continued to discharge his duties as administrator of the fund to the satisfaction of the board of trustees ( hereinafter appointed by the bank administering the estate ) he was to be retained in his present capacity at a salary commensurate with the increased responsibilities enlargement of the fund would entail . \", 'False 2 9 How long has it been since you reviewed the objectives of your benefit and service program ?  Historians have had two reasons for persisting so long in their investigations . ', 'True 2 15 How long has it been since you reviewed the objectives of your benefit and service program ?  Hudson now proposed to sail all the way through and test the seas beyond for the long sought waterway . ', 'False 2 14 How long has it been since you reviewed the objectives of your benefit and service program ?  All through July the Discovery picked her way along the 450 - mile long strait , avoiding ice and rocky islands . ', \"False 2 37 How long has it been since you reviewed the objectives of your benefit and service program ?  Political interference in Africa and Asia and even in Latin America ( though limited in Latin America by the special interest of the United States as expressed in the Monroe Doctrine , itself from the outset related to European politics and long dependent upon the `` balance of power '' system in Europe ) was necessary in order to preserve both common economic values and the European `` balance '' itself . \", \"True 2 7 How long has it been since you reviewed the objectives of your benefit and service program ?  The first result of Heidenstam 's long sojourn abroad was a volume of poems , Pilgrimage and Wander Years ( Vallfart och vandringsar ) , published in 1888 . \", \"False 2 3 How long has it been since you reviewed the objectives of your benefit and service program ?  Of the longer pieces of the volume none is so memorable as `` Nameless and Immortal '' , which at once took rank among the finest poems ever written in the Swedish language . \", 'False 2 12 How long has it been since you reviewed the objectives of your benefit and service program ?  His next major work , completed in 1892 , was a long fantastic epic in prose , entitled Hans Alienus , which Professor Bo ^ o ^ k describes as a monument on the grave of his carefree and indolent youth . ', 'False 2 4 How long has it been since you reviewed the objectives of your benefit and service program ?  About one-third as long , it is less intimate and detailed , but better coordinated , more concise and more dramatic . ', \"True 2 13 How long has it been since you reviewed the objectives of your benefit and service program ?  In `` The King 's Ride '' , Charles breaks out of a long period of petulance and inertia , regains his old self , escapes from Turkey , and finally reaches his own land after an absence of eighteen years . \", 'False 2 4 How long has it been since you reviewed the objectives of your benefit and service program ?  As he had longed to be , he became the echo of a saga . ', \"True 2 21 How long has it been since you reviewed the objectives of your benefit and service program ?  Oersted 's boyhood represented a minimal chance of either attaining greatness or serving his people so well and over so long a span of life . \", \"True 2 28 How long has it been since you reviewed the objectives of your benefit and service program ?  Private George Gray Hunter of Pennsylvania wrote : `` I am well convinced in My own Mind that had it not been for officers this war would have ended long ago '' . \", 'False 2 10 How long has it been since you reviewed the objectives of your benefit and service program ?  With our company of soldiers , we made one long column of reddish dust . ', 'False 2 15 How long has it been since you reviewed the objectives of your benefit and service program ?  The Palace was an elaborate establishment , built practically on stilts in front , with long flights of wooden steps running up to the porch . ', 'False 2 8 How long has it been since you reviewed the objectives of your benefit and service program ?  The front windows of the place were long and narrow , reaching nearly to the floor and affording an unusually good view of the interior . ', 'True 2 2 How long has it been since you reviewed the objectives of your benefit and service program ?  The long minute before he reached effective cover seemed endless . ', 'False 2 10 How long has it been since you reviewed the objectives of your benefit and service program ?  But that did not prevent him from writing more long letters , or from coming to spend his Christmas vacations with the hospitable , lively Szolds in their pleasant house on Lombard Street . ', 'False 2 23 How long has it been since you reviewed the objectives of your benefit and service program ?  A man with a sketch pad in hand sat with a large pink woman in a small office at the end of a long , dim corridor and made pencil lines on paper and said , `` Is this more like it , Mrs. MacReady ? ', 'True 2 12 How long has it been since you reviewed the objectives of your benefit and service program ?  Men from the Third Detective District , Eighteenth Precinct , had the longest , the most tedious , job . ', 'False 2 1 How long has it been since you reviewed the objectives of your benefit and service program ?  Long thin suitcase ? ', 'False 2 2 How long has it been since you reviewed the objectives of your benefit and service program ?  Or long fat suitcase , for that matter ? ', 'False 2 7 How long has it been since you reviewed the objectives of your benefit and service program ?  But nothing , it appeared , long enough to attract attention . ', \"False 2 15 How long has it been since you reviewed the objectives of your benefit and service program ?  A refuse bin at the Dumont turned up a florist 's box - a very long box for very long stemmed flowers . \", \"False 2 19 How long has it been since you reviewed the objectives of your benefit and service program ?  A refuse bin at the Dumont turned up a florist 's box - a very long box for very long stemmed flowers . \", \"True 2 12 How long has it been since you reviewed the objectives of your benefit and service program ?  And I done favors for you , big favor not so long back , did n't I , and I 'm right here to take on where Pretty left off . \", \"True 2 5 How long has it been since you reviewed the objectives of your benefit and service program ?  `` That 's a long while '' , said Angie . \", \"True 2 43 How long has it been since you reviewed the objectives of your benefit and service program ?  She 'd be smart about it , get him to give it to her in little bills so 's nobody would suspect - maybe could n't get it until Monday account of that , the banks - But that was n't really long to wait . \", 'False 2 8 How long has it been since you reviewed the objectives of your benefit and service program ?  New England , as everyone knows , has long been schoolmaster to the Nation . ', \"False 2 46 How long has it been since you reviewed the objectives of your benefit and service program ?  Mr. Blatz had been at least sober enough to remember to telephone and he turned out to be the greatest boon that had come into Mr. Crombie 's life since he moved to Highfield , in spite of the fact that he did n't work very fast or very long at a time , and he did n't like to work at all unless Mr. Crombie hung around and talked to him . \", \"False 2 6 How long has it been since you reviewed the objectives of your benefit and service program ?  `` We won n't live long enough if I wait for you , besides which you do n't need to worry - there 'll be plenty more '' . \", \"True 2 4 How long has it been since you reviewed the objectives of your benefit and service program ?  He paused only long enough to ascertain that Jess 's buckskin was still missing and that his own gray was all right , then climbed through a back window and dropped to the ground outside . \", \"True 2 2 How long has it been since you reviewed the objectives of your benefit and service program ?  That long ride the four of you took must 've given him a good appetite . \", 'False 2 4 How long has it been since you reviewed the objectives of your benefit and service program ?  He wondered how long it would be before they had a signed confession from Lionel Black . ', \"False 2 7 How long has it been since you reviewed the objectives of your benefit and service program ?  Later , she apologized for the long scratch across his face , tried to explain she could n't help herself , that the panic arose in her unwanted . \", \"True 2 20 How long has it been since you reviewed the objectives of your benefit and service program ?  In the city , he said , the waiting list for those who want to join the union is so long that unless a boy has an inside track he can n't get in . \", 'True 2 8 How long has it been since you reviewed the objectives of your benefit and service program ?  He knelt down at his bed as long as he could kneel . ', 'True 2 8 How long has it been since you reviewed the objectives of your benefit and service program ?  Whether any of us remain in it long will depend on what happens as a result of the technological and economic revolutions now going on in the countries of Asia and Africa , and also of course on how long the cold war remains cold . ', 'True 2 37 How long has it been since you reviewed the objectives of your benefit and service program ?  Whether any of us remain in it long will depend on what happens as a result of the technological and economic revolutions now going on in the countries of Asia and Africa , and also of course on how long the cold war remains cold . ', 'True 2 21 How long has it been since you reviewed the objectives of your benefit and service program ?  These polar concerns ( imitation vs. formalism ) reflect a philosophical and religious situation which has been developing over a long period of time . ', 'True 2 25 How long has it been since you reviewed the objectives of your benefit and service program ?  Our most elemental and unavoidable impressions , he says , are those of being involved in a large arena of powers which have a longer past than our own , which are interrelated in a vast movement through the present toward the future . ', 'True 2 14 How long has it been since you reviewed the objectives of your benefit and service program ?  There is a parallel to this tendency in the assignment of time in long known hymn tunes . ', 'False 2 26 How long has it been since you reviewed the objectives of your benefit and service program ?  Dominant stress is of course more than extended duration , and normally centers on syllables that would have primary stress or phrase stress if the words or longer units they are parts of were spoken alone : a dominant stress given to glorify would normally center on its first syllable rather than its last . ', 'True 2 4 How long has it been since you reviewed the objectives of your benefit and service program ?  He took a long but carefully controlled draught . ', 'False 2 2 How long has it been since you reviewed the objectives of your benefit and service program ?  His long nose wiggled at the smells of frizzling bacon and heating java , but the fire was low , and he wanted to waste no time . ', 'True 2 4 How long has it been since you reviewed the objectives of your benefit and service program ?  He drew a long breath and opened the trunk and hung out her clothes and spoilables upon the wagon ribs . ', 'True 2 13 How long has it been since you reviewed the objectives of your benefit and service program ?  This procedure is extremely shortsighted in chronic labor surplus areas with a long history of declining employment . ', \"False 2 3 How long has it been since you reviewed the objectives of your benefit and service program ?  Maude 's long nose unexpectedly wrinkled up . \", 'False 2 12 How long has it been since you reviewed the objectives of your benefit and service program ?  At the door she turned back , her Roman nose looking very long now and satiric . ', 'False 2 4 How long has it been since you reviewed the objectives of your benefit and service program ?  It was a long , low room , like a root cellar , for it was banked up with soil , and vines had run rampant over that , too . ', 'True 2 17 How long has it been since you reviewed the objectives of your benefit and service program ?  Does your company have a program for selecting and developing sales and marketing management personnel for the longer term ? ', 'False 2 24 How long has it been since you reviewed the objectives of your benefit and service program ?  If companies will take the time to give objective consideration to their major problems and to the questions they provoke , then a long constructive step will have been taken toward more effective marketing in next decade . ', 'True 2 13 How long has it been since you reviewed the objectives of your benefit and service program ?  As he informs Watson , `` My life is spent in one long effort to escape from the commonplaces of existence . ', \"True 2 17 How long has it been since you reviewed the objectives of your benefit and service program ?  In a book review of `` The Soviet Cultural Offensive '' , he says , `` Long before the State Department organized its bureaucracy into an East-West Contacts Staff in order to wage a cultural counter-offensive within Soviet borders , the sharp cutting-edge of American culture had carved its mark across the Russian steppes , as when the enterprising promoters of ' Porgy and Bess ' overrode the State Department to carry the contemporary ' cultural warfare ' behind the enemy lines . \", 'True 2 5 How long has it been since you reviewed the objectives of your benefit and service program ?  It was a rough long ride through the mud and pot holes . ', 'False 2 2 How long has it been since you reviewed the objectives of your benefit and service program ?  Yet long before the scheduled time for return , Donovan would be watching for every speck in the sky . ', \"False 2 25 How long has it been since you reviewed the objectives of your benefit and service program ?  Hoijer 's Athabascan and my Yokuts share 71 identical meanings ( with allowance for several near synonyms like stomach belly , big large , long far , many much , die dead , say speak ) . \", 'True 2 29 How long has it been since you reviewed the objectives of your benefit and service program ?  They isolate out easily , naturally , and unambiguously from the continuum of nature and existence ; and they should be given priority in the basic list as long as they continue to show these qualities . ', \"False 2 14 How long has it been since you reviewed the objectives of your benefit and service program ?  And it is clearly argued by Lord Percy of Newcastle , in his remarkable long essay , The Heresy of Democracy , and in a more general way by Voegelin , in his New Science of Politics , that this same Rousseauan idea , descending through European democracy , is the source of Marx 's theory of the dictatorship of the proletariat . \", 'True 2 2 How long has it been since you reviewed the objectives of your benefit and service program ?  The long road that had taken liberals in this country into the social religion of democracy , into a worship of man , led logically to the Marxist dream of a classless society under a Socialist State . ', 'False 2 2 How long has it been since you reviewed the objectives of your benefit and service program ?  Basic long line communications in Alaska are now provided through Federal facilities operated by the Army , Air Force , and Federal Aviation Agency . ', \"False 2 12 How long has it been since you reviewed the objectives of your benefit and service program ?  Another example is the recent cancellation of the F-108 , a long range interceptor with a speed three times as great as the speed of sound , which was designed for use against manned bombers in the period of the mid 1960 's . \", 'False 2 24 How long has it been since you reviewed the objectives of your benefit and service program ?  One of the important and difficult decisions which had to be made in this budget concerned the role of the B-70 , a long range supersonic bomber . ', \"False 2 5 How long has it been since you reviewed the objectives of your benefit and service program ?  The Fisher Body division , long controlled by the Fisher brothers under a voting trust even though General Motors owned a majority of its stock , followed an independent course for many years , but by 1947 and 1948 `` resistance had collapsed '' and its purchases from du Pont `` compared favorably '' with purchases by other General Motors divisions . \", \"True 2 12 How long has it been since you reviewed the objectives of your benefit and service program ?  I 'm well aware that you 've got a pedigree as long as my leg , and that I do n't amount to anything . \", \"False 2 8 How long has it been since you reviewed the objectives of your benefit and service program ?  He could n't see ; he was long past the point of coherent thinking . \", 'False 2 58 How long has it been since you reviewed the objectives of your benefit and service program ?  I have no picture in my mind of the garden as a whole - that I could not see - but certain aspects of certain corners linger in the memory : wind-blown , frost-bitten , white chrysanthemums beneath a window , with their brittle brown leaves and their sharp scent of November ; ripe pears lying in long grass , to be turned over by a dusty slippered foot , cautiously , lest bees still worked in the ragged , brown edged holes ; hot colored verbenas in the corner between the dining-room wall and the side porch , where we passed on our way to the pump with the half gourd tied to it as a cup by my grandmother for our childish pleasure in drinking from it . ', 'True 2 13 How long has it been since you reviewed the objectives of your benefit and service program ?  I have more than once sat cross-legged in the grass through a long summer morning and watched without touching while a poppy bud higher than my head slowly but visibly pushed off its cap , unfolded , and shook out like a banner in the sun its flaming vermilion petals . ', \"False 2 15 How long has it been since you reviewed the objectives of your benefit and service program ?  Fuzzy caterpillars , snails with their sensitive horns , struggling grasshoppers held by their long hind legs and commanded to `` spit tobacco , spit '' . \", 'True 2 26 How long has it been since you reviewed the objectives of your benefit and service program ?  Such a comparison reminds us that in employing low characters in his works Faulkner is recording actuality in the South and moreover is following a long established literary precedent . ', 'True 2 15 How long has it been since you reviewed the objectives of your benefit and service program ?  Even if there are no livestock , the farmer cannot leave the farm for long periods , particularly during the growing season . ', 'True 2 5 How long has it been since you reviewed the objectives of your benefit and service program ?  Frequently he must work long hours in the hot sun or cold rain . ', 'False 2 16 How long has it been since you reviewed the objectives of your benefit and service program ?  Animals eat only from one side , so the fence-line bunk must be twice as long as the mechanical bunk . ', 'True 2 2 How long has it been since you reviewed the objectives of your benefit and service program ?  How long to stay in your shelter . ', 'True 2 2 How long has it been since you reviewed the objectives of your benefit and service program ?  How long you may stay outside . ', 'False 2 15 How long has it been since you reviewed the objectives of your benefit and service program ?  Askington was a kind of goal I set myself ; I had admired him long before I talked to him . ', 'True 2 4 How long has it been since you reviewed the objectives of your benefit and service program ?  I had a long talk with him . ', \"False 2 27 How long has it been since you reviewed the objectives of your benefit and service program ?  We went into Mrs. Monmouth 's library , which had low bookshelves all along the walls , and above them a Modigliani portrait , a Jackson Pollock twelve feet long , and a gorgeous Miro with a yellow background , that looked like an inscription from a Martian tomb . \", 'False 2 2 How long has it been since you reviewed the objectives of your benefit and service program ?  The long and ever increasing column of sportsmen is now moving into a new era . ', 'False 2 14 How long has it been since you reviewed the objectives of your benefit and service program ?  We saw similar displays in the other three campgrounds in this 70 mile long National Seashore Recreation Area . ', 'True 2 27 How long has it been since you reviewed the objectives of your benefit and service program ?  Among them , according to the U. S. Department of Commerce , are : ( 1 ) shorter work weeks , ( 2 ) higher pay , ( 3 ) longer paid vacations , ( 4 ) better transportation , ( 5 ) earlier retirement , and ( 6 ) more education . ', 'True 2 1 How long has it been since you reviewed the objectives of your benefit and service program ?  Long weekends enable many to get away from home for three or four days several times a year . ', 'True 2 7 How long has it been since you reviewed the objectives of your benefit and service program ?  As a boy Roy Mason began the long process of extracting the goodness of the out-of-doors , its tang of weather , its change of seasons , its variable moods . ', 'True 2 11 How long has it been since you reviewed the objectives of your benefit and service program ?  Like many others , he had to work hard , long hours in a struggling family business which , though it was allied to art of a kind - the design and production of engraved seals - bore no relation to the painting of pictures . ', \"True 2 3 How long has it been since you reviewed the objectives of your benefit and service program ?  Out of long experience I have found that incidental figures and other objects like trees , logs , and bushes can be traced from the original sketch and moved about in the major areas on the final sheet until they occupy the right position , which I call ' clicking ' . \", 'True 2 1 How long has it been since you reviewed the objectives of your benefit and service program ?  Long observation has taught Mason that most landscape can be reduced to three essential planes : a foreground in sharp focus - either a light area with dark accents or a dark one with lights ; a middle distance often containing the major motif ; and a background , usually a silhouetted form foiled against the sky . ', 'True 2 15 How long has it been since you reviewed the objectives of your benefit and service program ?  After all , the henpecked husband with his shrewish wife is a comic figure of long standing , in literature and on the stage , as Dr. Schillinger points out . ', \"True 2 9 How long has it been since you reviewed the objectives of your benefit and service program ?  Gracias '' , I hollered , my first long swallow filling me with confidence and immediately doubling the size of my Spanish vocabulary . \", 'True 2 2 How long has it been since you reviewed the objectives of your benefit and service program ?  A long time . ', 'False 2 8 How long has it been since you reviewed the objectives of your benefit and service program ?  Beyond it the gray road stretched a long , long way . ', 'False 2 10 How long has it been since you reviewed the objectives of your benefit and service program ?  Beyond it the gray road stretched a long , long way . ', 'False 2 12 How long has it been since you reviewed the objectives of your benefit and service program ?  An ordinary sea wave is rarely more than a few hundred feet long from crest to crest - no longer than 320 feet in the Atlantic or 1000 feet in the Pacific . ', 'False 2 19 How long has it been since you reviewed the objectives of your benefit and service program ?  An ordinary sea wave is rarely more than a few hundred feet long from crest to crest - no longer than 320 feet in the Atlantic or 1000 feet in the Pacific . ', \"True 2 6 How long has it been since you reviewed the objectives of your benefit and service program ?  Spencer was quiet for a moment longer , then he said , `` There is nothing I want to say , Captain '' . \", \"True 2 94 How long has it been since you reviewed the objectives of your benefit and service program ?  To a much less full extent , the hebephrenic person 's belching or flatus has a comparable communicative function ; in working with these patients the therapist eventually gets to do some at least private mulling over of the possible meaning of a belch , or the passage of flatus , not only because he is reduced to this for lack of anything else to analyze , but also because he learns that even these animal like sounds constitute forms of communication in which , from time to time , quite different things are being said , long before the patient can become sufficiently aware of these , as distinct feelings and concepts , to say them in words . \", 'False 2 13 How long has it been since you reviewed the objectives of your benefit and service program ?  Hoag pushed open the door : at the far end of the long dark room Muller was faintly silhouetted against the window , the rifle still raised ; he stood with his feet apart on a kitchen table he had dragged to the sill . ', \"False 2 17 How long has it been since you reviewed the objectives of your benefit and service program ?  `` Well '' , he explained , `` s'posin you was a nester swingin ' the long rope ? \", 'False 2 42 How long has it been since you reviewed the objectives of your benefit and service program ?  Jury , judge and executioner were riding the range in the form of a single unknown figure that could materialize anywhere , at any time , to dispense an ancient brand of justice the men of the new West had believed long outdated . ', 'False 2 9 How long has it been since you reviewed the objectives of your benefit and service program ?  The cook , Mateo Garcia , had arrived there long before the herd . ', \"False 2 2 How long has it been since you reviewed the objectives of your benefit and service program ?  How long should I wait '' ? \", \"True 2 5 How long has it been since you reviewed the objectives of your benefit and service program ?  It should n't be long '' . \", 'True 2 3 How long has it been since you reviewed the objectives of your benefit and service program ?  It seemed long , at least to Tom Brannon . ', \"True 2 24 How long has it been since you reviewed the objectives of your benefit and service program ?  In his wake came the District Traffic Supervisor and the cream of the telegraphic profession , ten of Boston 's best , chosen for their long experience and thorough knowledge of golf . \", \"False 2 16 How long has it been since you reviewed the objectives of your benefit and service program ?  These must have been for local calls strictly , as in May 1900 the `` only long distance telephone '' in town was transferred from C. B. Carleton 's to Young 's shoe store . \", 'False 2 5 How long has it been since you reviewed the objectives of your benefit and service program ?  How many women had longed for the privilege that was hers . ', \"False 2 7 How long has it been since you reviewed the objectives of your benefit and service program ?  When Claire returned to Bishopsgate she longed to tell them she had become Byron 's mistress . \", 'True 2 10 How long has it been since you reviewed the objectives of your benefit and service program ?  He felt close to Mary , having spent so long concentrating on the beginning of her journey . ', 'False 2 4 How long has it been since you reviewed the objectives of your benefit and service program ?  First is the long and still somewhat obscure process of preparation , planning and discussion . ', 'True 2 4 How long has it been since you reviewed the objectives of your benefit and service program ?  There followed a long and sometimes bitter discussion of the feasibility of elections for the fall of 1957 , in which it appears that the Minister of the Interior took the most pessimistic view and that the Istiqlal was something less than enthusiastic . ', \"True 2 15 How long has it been since you reviewed the objectives of your benefit and service program ?  We all seek the same thing through different ways - an end to this long night of two thousand years of darkness and unspeakable abuses which will continue to plague us until the Star of David flies over Zion '' . \", \"False 2 9 How long has it been since you reviewed the objectives of your benefit and service program ?  The occasion for this marathon : Angel 's long awaited reissue in its `` Great Recordings of the Century '' series of the Schnabel-Pro Arte version . \", 'True 2 2 How long has it been since you reviewed the objectives of your benefit and service program ?  The long settled areas of states like Virginia and South Carolina developed the ante-bellum culture to its richest flowering , and there the memory is more precious , and the consciousness of loss the greater . ', 'False 2 21 How long has it been since you reviewed the objectives of your benefit and service program ?  He observed the Florentine vase in the hall , the Renoir painting in the library , as well as the long shelves of well-bound volumes ; the pattern of the Oriental rug , the delicate cut-glass chandelier . ', \"False 2 52 How long has it been since you reviewed the objectives of your benefit and service program ?  I would not want to be one of those writers who begin each morning by exclaiming , `` O Gogol , O Chekhov , O Thackeray and Dickens , what would you have made of a bomb shelter ornamented with four plaster-of-Paris ducks , a birdbath , and three composition gnomes with long beards and red mobcaps '' ? \", 'True 2 20 How long has it been since you reviewed the objectives of your benefit and service program ?  These trumps were more touching than they were anything else , and seemed to imply that the nights were long , her children ungrateful , and her marriage bewilderingly threadbare . ', 'False 2 3 How long has it been since you reviewed the objectives of your benefit and service program ?  `` How long did you study ? ', \"True 2 2 How long has it been since you reviewed the objectives of your benefit and service program ?  How long , buddy '' ? \", 'False 2 13 How long has it been since you reviewed the objectives of your benefit and service program ?  As he neared the square , a round figure muffled in a long , black cape whisked by . ', 'True 2 3 How long has it been since you reviewed the objectives of your benefit and service program ?  `` How long , my Lord ? ', 'True 2 2 How long has it been since you reviewed the objectives of your benefit and service program ?  How long ? ', 'True 2 25 How long has it been since you reviewed the objectives of your benefit and service program ?  What that spirit and attitude were we can best understand if we see more precisely how it contrasts with the communist tradition with the longest continuous history , the one which reached Christianity by the way of Stoicism through the Church Fathers of Late Antiquity . ', \"True 2 13 How long has it been since you reviewed the objectives of your benefit and service program ?  The sets are remarkably elaborate for a road-show that does n't pause long in any one place , and they are devised so that they shift with a minimum of interruption or obtrusiveness . \", 'True 2 31 How long has it been since you reviewed the objectives of your benefit and service program ?  In any case , I have always been treated with the utmost courtesy by Englishmen , even in Devonshire and Cornwall , where anti Catholic feeling has supposedly existed the strongest and longest . ', \"True 2 6 How long has it been since you reviewed the objectives of your benefit and service program ?  - We won't be too long . \", 'False 2 5 How long has it been since you reviewed the objectives of your benefit and service program ?  Behind them shambled a long column of weak , tattered men . ', 'False 2 9 How long has it been since you reviewed the objectives of your benefit and service program ?  Now he knew perfectly that he had but longed to increase his own suffering . ', 'True 2 2 How long has it been since you reviewed the objectives of your benefit and service program ?  The long retention period and the complete mixing concept prevented rapid changes in either the mixed liquor or in the effluent . ', 'True 2 13 How long has it been since you reviewed the objectives of your benefit and service program ?  These vehicles , with large sensitive areas , have collected data for long enough times to give reliable impact rates for the periods of exposure . ', 'False 2 3 How long has it been since you reviewed the objectives of your benefit and service program ?  He had long black hairs on his wrist . ', 'False 2 22 How long has it been since you reviewed the objectives of your benefit and service program ?  They went to the Flea Market , expecting to find the treasures of Europe , and found instead a duplication of that long double row of booths in Tours . ', 'False 2 10 How long has it been since you reviewed the objectives of your benefit and service program ?  He was in his mid fifties at this time , long past the establishment of his name and the wish to be lionized yet once again , and it was almost a decade since he had sworn off lecturing . ', 'False 2 5 How long has it been since you reviewed the objectives of your benefit and service program ?  This was an enormously long building whose walls were made of rocks , some of them brought home from every continent during his six years as an oil geologist . ', 'False 2 33 How long has it been since you reviewed the objectives of your benefit and service program ?  Nor have we remembered that in the melting pot of America the hundreds of isolated and semi isolated ethnic , regional and occupational groups did not fuse into a homogeneous national unit until long after education and industrialization had caused them to cast oral tradition aside as a means of carrying culturally significant material . ', 'False 2 18 How long has it been since you reviewed the objectives of your benefit and service program ?  For example , the marked susceptibility of the monkey to respiratory infection might be related to its delicate , long alveolar ducts and short , large bronchioles situated within a parenchyma entirely lacking in protective supportive tissue barriers such as those found in types 1 , and 3 , . ', \"False 2 33 How long has it been since you reviewed the objectives of your benefit and service program ?  On the contrary , even in the heart of `` the Bible belt '' itself , as can be attested by any one who is called to work there , the industrial and technological revolutions have long been under way , together with the corresponding changes in man 's picture of himself and his world . \", 'True 2 4 How long has it been since you reviewed the objectives of your benefit and service program ?  What makes this long and diverse tradition essentially one is that those who have belonged to it have been profoundly in earnest about being modern men in a distinctively modern world . ', 'True 2 19 How long has it been since you reviewed the objectives of your benefit and service program ?  Any of the antithyroid drugs , of either type , if given in large enough doses for a long period of time will cause goitre , owing to inhibition of thyroid hormone synthesis , with production of hypothyroidism . ', 'False 2 5 How long has it been since you reviewed the objectives of your benefit and service program ?  If the deficiency persists long enough , it is reasonable to suppose that the * * f label will reflect the * * f distribution in the thyroglobulin . ', 'True 2 14 How long has it been since you reviewed the objectives of your benefit and service program ?  A man with so big and so staggeringly developed a torso and such long and powerful arms is expected to stand taller than five feet five . ', 'True 2 22 How long has it been since you reviewed the objectives of your benefit and service program ?  He flew about the place making these adjustments and it was obvious that what he was doing was the fruit of long experience . ', \"False 2 8 How long has it been since you reviewed the objectives of your benefit and service program ?  Anita put out the remaining candles with a long snuffer , and in the smell of scented candlewick , the comforting awareness of each other 's bodies , the retained pattern of dancers and guests remembered , their minds grew numb and then empty of images . \", 'True 2 18 How long has it been since you reviewed the objectives of your benefit and service program ?  Strange how everything here fitted back into his life , even if he had been away so long . ', 'False 2 24 How long has it been since you reviewed the objectives of your benefit and service program ?  New York lay bleaching in the summer sun , and the morning fish hawk , flying in the heated air , saw below him the long triangular wedge of Manhattan Island . ', 'False 2 10 How long has it been since you reviewed the objectives of your benefit and service program ?  He drove sensual patterns off , carefully shaving his long upper lip . ', 'False 2 11 How long has it been since you reviewed the objectives of your benefit and service program ?  It lacks pollen baskets and possesses only a large number of long , branched hairs on its legs , on which the pollen grains will collect . ', 'True 2 6 How long has it been since you reviewed the objectives of your benefit and service program ?  But not hard for very long . ', 'True 2 2 How long has it been since you reviewed the objectives of your benefit and service program ?  Just long enough to make you feel important . ', 'True 2 8 How long has it been since you reviewed the objectives of your benefit and service program ?  But they kept on clapping for a long , long time . ', 'True 2 10 How long has it been since you reviewed the objectives of your benefit and service program ?  But they kept on clapping for a long , long time . ', 'False 2 4 How long has it been since you reviewed the objectives of your benefit and service program ?  He was so long thinking that my mother had time to inspect her sherry for dregs . ', \"True 2 14 How long has it been since you reviewed the objectives of your benefit and service program ?  Usually , this was done when attention was diverted by someone else 's long , boring story . \", 'True 2 11 How long has it been since you reviewed the objectives of your benefit and service program ?  He was shaking with anger , his breath coming in long , painful gasps . ', 'False 2 8 How long has it been since you reviewed the objectives of your benefit and service program ?  And he was handsome , despite the long thin scar that slanted across his cheek . ', \"True 2 25 How long has it been since you reviewed the objectives of your benefit and service program ?  He watched the girl until she had gone into the trees , and waited until he could n't hear the sound of her horse any longer , then went up to where the children were sleeping . \", 'False 2 16 How long has it been since you reviewed the objectives of your benefit and service program ?  The steeple leaned backward , while the church advanced like a headless creature in a long , shapeless coat . ', 'False 2 6 How long has it been since you reviewed the objectives of your benefit and service program ?  In the Delaware River , three long islands were overgrown with greening trees and underbrush . ', 'False 2 17 How long has it been since you reviewed the objectives of your benefit and service program ?  At the end of a shaft of light , the pews appeared to be broad stairs in a long dungeon . ', 'False 2 10 How long has it been since you reviewed the objectives of your benefit and service program ?  The mouth was thin lipped and wide , the long cleft in the upper lip like a slide . ', 'False 2 21 How long has it been since you reviewed the objectives of your benefit and service program ?  The samples for liquid phase thermal reaction studies were prepared in Pyrex capillary tubing 2.5 mm. i.d. and about 15 cm. long . ', 'False 2 14 How long has it been since you reviewed the objectives of your benefit and service program ?  The photochemical reaction cells consisted of 10 mm. i.d. Pyrex tubing , 5.5 cm. long , diffraction effects being minimized by the fact that the light passed through only liquid glass interfaces and not gas glass interfaces . ', 'False 2 21 How long has it been since you reviewed the objectives of your benefit and service program ?  In southern Europe , between the Israeli Republics and the Icelandic speaking peoples of northern Europe , was a thin but long stretch of territory called March . ', \"False 2 28 How long has it been since you reviewed the objectives of your benefit and service program ?  Last week , when Royal was informed that three Longhorns were among the conference 's top four in rushing , he said : `` That won't last long '' . \", \"False 2 14 How long has it been since you reviewed the objectives of your benefit and service program ?  The Air Force's , and the game 's , final play , was a long pass by quarterback Bob McNaughton which Gannon intercepted on his own 44 and returned 22 yards . \", 'False 2 5 How long has it been since you reviewed the objectives of your benefit and service program ?  Then Robinson slammed a long double to left center to score both runners . ', 'True 2 15 How long has it been since you reviewed the objectives of your benefit and service program ?  An early film by a competitor of the Wizard of Menlo Park simply showed a long kiss performed by two actors of the contemporary stage . ', \"False 2 39 How long has it been since you reviewed the objectives of your benefit and service program ?  Laurence M . Klauber put length at maturity at two thirds the ultimate length for some rattlesnakes , and Charles C . Carpenter 's data on Michigan garter and ribbon snakes ( Thamnophis ) show that the smallest gravid females are more than half as long as the biggest adults . \", 'False 2 16 How long has it been since you reviewed the objectives of your benefit and service program ?  If , in a certain part of the range , it starts life 1 foot longer than do any of the other ( relatively large ) giants , and reaches maturity at , let us guess , 18 inches longer than the others , a quadrupling of the maturity length would result in a maximum of ( nearly ) 40 feet . ', 'False 2 40 How long has it been since you reviewed the objectives of your benefit and service program ?  If , in a certain part of the range , it starts life 1 foot longer than do any of the other ( relatively large ) giants , and reaches maturity at , let us guess , 18 inches longer than the others , a quadrupling of the maturity length would result in a maximum of ( nearly ) 40 feet . ', 'True 2 8 How long has it been since you reviewed the objectives of your benefit and service program ?  Until better records have been kept over longer periods of time and much more is known about the maximum dimensions , it will be wise to refrain from drawing conclusions . ', 'False 2 14 How long has it been since you reviewed the objectives of your benefit and service program ?  Measurements of skins are of little value ; every snake hide is noticeably longer than its carcass and intentional stretching presents no difficulty to the unscrupulous explorer . ', \"False 2 8 How long has it been since you reviewed the objectives of your benefit and service program ?  He reasons that as anacondas 30 feet long are often found , some might be 38 , and occasional `` monstrous freaks '' over 50 . \", 'False 2 36 How long has it been since you reviewed the objectives of your benefit and service program ?  One female , collected on an island off the coast of Nicaragua , was gravid and measured 4 feet 8 inches from snout to vent ( her tail should be between 6 and 7 inches long ) . ', 'False 2 15 How long has it been since you reviewed the objectives of your benefit and service program ?  The female from Central America which gave birth to four was only 3 feet 11 inches long . ', 'True 2 13 How long has it been since you reviewed the objectives of your benefit and service program ?  Everyone is ambivalent about his profession , if he has practised it long enough , but there were still moments when he loved the stage and all those unseen people out there , who might cheer you or boo you , but that was largely , though not entirely , up to you . ', 'False 2 6 How long has it been since you reviewed the objectives of your benefit and service program ?  They had been sitting too long to be able to stand up easily . ', 'False 2 21 How long has it been since you reviewed the objectives of your benefit and service program ?  The gunfire , which was so near that it seemed just a piece up the road now , stopped for long enough to count to twenty ; and in that brief interval , a redcoat officer came tearing down the road , whipping his horse fit to kill . ', 'True 2 8 How long has it been since you reviewed the objectives of your benefit and service program ?  In my recollection , there was a long interval between the death of the officer and the appearance of the first of the retreating redcoats , and in that interval the dust cloud over the road seems to hover indefinitely . ', 'True 2 26 How long has it been since you reviewed the objectives of your benefit and service program ?  Cousin Joshua Dover decided to remain with the Reverend and poor Isaac Pitt until life passed away - and he was hurt so badly he did not seem for long in this world . ', 'True 2 7 How long has it been since you reviewed the objectives of your benefit and service program ?  The report , culminating a year long study of the ADC program in Cook county by a New York City welfare consulting firm , listed 10 long range recommendations designed to reduce the soaring ADC case load . ', 'False 2 26 How long has it been since you reviewed the objectives of your benefit and service program ?  A large picnic area or camping development is most efficient in shape as a square or rectangle several hundred feet in width in preference to a long narrow area less than one hundred feet wide . ', 'False 2 5 How long has it been since you reviewed the objectives of your benefit and service program ?  Her legs hung down long and thin as she sat on the high stool . ', 'False 2 19 How long has it been since you reviewed the objectives of your benefit and service program ?  He gave Mr. Jack a real going over ; he brushed his shoulders and his back and his collar with long , firm strokes . ', 'False 2 28 How long has it been since you reviewed the objectives of your benefit and service program ?  Each brass handle and hinge shone for his reward , and he knew how to get at the dust in the china flowers and how to take down the long glass drops which hung from the chandelier . ', 'True 2 41 How long has it been since you reviewed the objectives of your benefit and service program ?  After Gagarin became the Greatest Man in the World , for a nation that does not believe in the cult of personality or in careerism , Moreland wrote me a letter in which he said : `` I am not interested in how long a bee can live in a vacuum , or how far it can fly . ', 'True 2 4 How long has it been since you reviewed the objectives of your benefit and service program ?  There was a long silence . ', \"False 2 9 How long has it been since you reviewed the objectives of your benefit and service program ?  Noticing Russell 's horse in front of the long log building , he assumed his friend had slipped inside and would be able to put up a good fight , so he began working his way down the ditch to join him . \", \"False 2 14 How long has it been since you reviewed the objectives of your benefit and service program ?  `` Litigants and witnesses were put to the expense and inconvenience of going long distances to transact business ; public money spent ; justice delayed ; nothing accomplished , and the whole distribution of justice in this county seems to be an absolute farce '' . \", \"True 2 4 How long has it been since you reviewed the objectives of your benefit and service program ?  If not , how long to order and what is the price '' ? \", 'False 2 15 How long has it been since you reviewed the objectives of your benefit and service program ?  The anode consisted of a 1/2 inch diameter porous graphite plug , 1/4 inch long . ', \"True 2 1 How long has it been since you reviewed the objectives of your benefit and service program ?  Long hard years of `` on the job '' training had brought them to their competence . \", 'False 2 7 How long has it been since you reviewed the objectives of your benefit and service program ?  The necessity of that day has long disappeared . ', 'False 2 10 How long has it been since you reviewed the objectives of your benefit and service program ?  The question , however , cannot be ignored for long . ', 'True 2 13 How long has it been since you reviewed the objectives of your benefit and service program ?  It had just suffered a calamity , the final crisis in a long series of calamities . ', 'True 2 7 How long has it been since you reviewed the objectives of your benefit and service program ?  That glory , craved for so long , was now forbidden to him . ', 'True 2 6 How long has it been since you reviewed the objectives of your benefit and service program ?  Solar activities could presumably bring long periods of flood or drought . ', 'True 2 15 How long has it been since you reviewed the objectives of your benefit and service program ?  It follows that any effective policy toward the underdeveloped countries must have a realistically long working horizon . ', 'False 2 6 How long has it been since you reviewed the objectives of your benefit and service program ?  The doctor was wearing a long New England greatcoat , hardly necessary in the June weather but a garment which proved well adapted to the sequestration of hens . ', \"True 2 3 How long has it been since you reviewed the objectives of your benefit and service program ?  After a long , hot controversy , Miller County has a new school superintendent , elected , as a policeman put it , in the `` coolest election I ever saw in this county '' . \", 'True 2 9 How long has it been since you reviewed the objectives of your benefit and service program ?  was a question that had to be asked long before they saw Paree . ', 'False 2 16 How long has it been since you reviewed the objectives of your benefit and service program ?  Greasy soils , which are typified by hydrocarbons and fats ( esters of glycerol with long chain organic acids ) . ', 'True 2 7 How long has it been since you reviewed the objectives of your benefit and service program ?  The weeks went by , and the longer our separation grew , the more unbounded and almost unbearable my fantasies became . ', \"False 2 11 How long has it been since you reviewed the objectives of your benefit and service program ?  Suppose the lines in front of the movie houses were too long and we could n't get in ? \", 'False 2 45 How long has it been since you reviewed the objectives of your benefit and service program ?  Mike stopped to cherish all his brother selves , the many threes-fulfilled on Mars , corporate and discorporate , the precious few on Earth - the unknown powers of three on Earth that would be his to merge with and cherish now that at last long waiting he grokked and cherished himself . ', 'False 2 26 How long has it been since you reviewed the objectives of your benefit and service program ?  Almost immediately she was ashamed of herself for feeling vain , at such a time , in such a place , and she tossed back her long yellow hair , smiling shyly as she entered the room . ', \"True 2 12 How long has it been since you reviewed the objectives of your benefit and service program ?  We did n't expect him to come along ; thought for the longest he was a tumor '' . \", \"True 2 5 How long has it been since you reviewed the objectives of your benefit and service program ?  As we think of the long and excruciating pain it must have suffered , we are very likely to say : `` It was a bad thing that the little animal should suffer so '' . \", 'False 2 1 How long has it been since you reviewed the objectives of your benefit and service program ?  Long before he reached the protection of the stage door , Andy was recognized . ', 'False 2 3 How long has it been since you reviewed the objectives of your benefit and service program ?  `` No longer than yours . ', \"True 2 23 How long has it been since you reviewed the objectives of your benefit and service program ?  Suddenly he was interrupted in his daydreaming by a warm wetness lapping against his chin , and his eyes opened wide and long at the sight of a goat 's claret tongue , feasting against the salt taste of him . \", 'True 2 15 How long has it been since you reviewed the objectives of your benefit and service program ?  Later the Hurok office made it Dec. 8 thru 17 , a nice , long booking for the full repertory . ', \"True 2 5 How long has it been since you reviewed the objectives of your benefit and service program ?  You may stay as long as you wish , of course , but if arranging for the care of the girls must take time into account , I think a day or two should be enough to finish our business in '' . \", \"False 2 31 How long has it been since you reviewed the objectives of your benefit and service program ?  Here , too , she talked low , quirking her head at one or another of the places , most often at Izaak 's armchair which faced her across the long table . \", 'False 2 28 How long has it been since you reviewed the objectives of your benefit and service program ?  Abel sat and regarded the farm country which , spreading out from both sides of the road , rolled greenly up to where the silent white houses and long barns and silos nested into the tilled fields . ', 'False 2 6 How long has it been since you reviewed the objectives of your benefit and service program ?  Abel moved and adjusted his long legs . ', 'True 2 5 How long has it been since you reviewed the objectives of your benefit and service program ?  The Starbird had been long at the bottom of the bay . ', \"False 2 11 How long has it been since you reviewed the objectives of your benefit and service program ?  `` It never seemed to widen , it just got longer and longer '' . \", \"False 2 13 How long has it been since you reviewed the objectives of your benefit and service program ?  `` It never seemed to widen , it just got longer and longer '' . \", \"False 2 11 How long has it been since you reviewed the objectives of your benefit and service program ?  Mr. Claude is a specialist in torso development and he has long favored the now famous Weider Push-Pull Super-Set technique in which one exercise of the Super-Set is a pressing or `` pushing '' movement which accents one sector of a muscle group in a specific way , followed by a `` pulling '' exercise which works the opposing sector of the same muscle group . \", \"True 2 22 How long has it been since you reviewed the objectives of your benefit and service program ?  The last exercise of Roland Claude 's prescribed program for Henri is a single exercise , done in individual sets with a bit longer pause between sets . \", 'False 2 26 How long has it been since you reviewed the objectives of your benefit and service program ?  Why it was ever forgotten for even a moment I cannot say because it works perfectly for everyone , no matter whether he has short or long thigh-bone lengths ! ', 'False 2 7 How long has it been since you reviewed the objectives of your benefit and service program ?  In the third Frank Robinson hammered a long home run deep into the corner of the bleachers in right center , about 400 feet away , with two men on . ', 'False 2 23 How long has it been since you reviewed the objectives of your benefit and service program ?  Rachel wore a smart hat and , because she had been warned recently about smoking , puffed at her cigarettes through a long ivory holder stained with lipstick . ', \"False 2 3 How long has it been since you reviewed the objectives of your benefit and service program ?  In a long commentary which he has inserted in the published text of the first act of the play , he says at one point : `` However , that experience never raised a doubt in his mind as to the reality of the underworld or the existence of Lucifer 's many faced lieutenants . \", 'False 2 3 How long has it been since you reviewed the objectives of your benefit and service program ?  Are you longing for peace in your heart ? ']\n"
          ],
          "name": "stdout"
        }
      ]
    },
    {
      "cell_type": "code",
      "metadata": {
        "id": "JA95NsYtZok2"
      },
      "source": [
        ""
      ],
      "execution_count": null,
      "outputs": []
    }
  ]
}