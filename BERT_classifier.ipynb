{
  "nbformat": 4,
  "nbformat_minor": 0,
  "metadata": {
    "colab": {
      "name": "BERT classifier",
      "provenance": []
    },
    "kernelspec": {
      "name": "python3",
      "display_name": "Python 3"
    },
    "widgets": {
      "application/vnd.jupyter.widget-state+json": {
        "22c5fc11ab3541ba97d6a364977dbf5a": {
          "model_module": "@jupyter-widgets/controls",
          "model_name": "HBoxModel",
          "state": {
            "_view_name": "HBoxView",
            "_dom_classes": [],
            "_model_name": "HBoxModel",
            "_view_module": "@jupyter-widgets/controls",
            "_model_module_version": "1.5.0",
            "_view_count": null,
            "_view_module_version": "1.5.0",
            "box_style": "",
            "layout": "IPY_MODEL_104134c9112e454d8e747dcca4a2ba9b",
            "_model_module": "@jupyter-widgets/controls",
            "children": [
              "IPY_MODEL_848fe7cb6f3c4c06bec5796314536efa",
              "IPY_MODEL_0a51026243034eb29c51e50c573a5bb8"
            ]
          }
        },
        "104134c9112e454d8e747dcca4a2ba9b": {
          "model_module": "@jupyter-widgets/base",
          "model_name": "LayoutModel",
          "state": {
            "_view_name": "LayoutView",
            "grid_template_rows": null,
            "right": null,
            "justify_content": null,
            "_view_module": "@jupyter-widgets/base",
            "overflow": null,
            "_model_module_version": "1.2.0",
            "_view_count": null,
            "flex_flow": null,
            "width": null,
            "min_width": null,
            "border": null,
            "align_items": null,
            "bottom": null,
            "_model_module": "@jupyter-widgets/base",
            "top": null,
            "grid_column": null,
            "overflow_y": null,
            "overflow_x": null,
            "grid_auto_flow": null,
            "grid_area": null,
            "grid_template_columns": null,
            "flex": null,
            "_model_name": "LayoutModel",
            "justify_items": null,
            "grid_row": null,
            "max_height": null,
            "align_content": null,
            "visibility": null,
            "align_self": null,
            "height": null,
            "min_height": null,
            "padding": null,
            "grid_auto_rows": null,
            "grid_gap": null,
            "max_width": null,
            "order": null,
            "_view_module_version": "1.2.0",
            "grid_template_areas": null,
            "object_position": null,
            "object_fit": null,
            "grid_auto_columns": null,
            "margin": null,
            "display": null,
            "left": null
          }
        },
        "848fe7cb6f3c4c06bec5796314536efa": {
          "model_module": "@jupyter-widgets/controls",
          "model_name": "FloatProgressModel",
          "state": {
            "_view_name": "ProgressView",
            "style": "IPY_MODEL_96f96f5aa8e14b85a722d7f805383676",
            "_dom_classes": [],
            "description": "Downloading: 100%",
            "_model_name": "FloatProgressModel",
            "bar_style": "success",
            "max": 231508,
            "_view_module": "@jupyter-widgets/controls",
            "_model_module_version": "1.5.0",
            "value": 231508,
            "_view_count": null,
            "_view_module_version": "1.5.0",
            "orientation": "horizontal",
            "min": 0,
            "description_tooltip": null,
            "_model_module": "@jupyter-widgets/controls",
            "layout": "IPY_MODEL_f6ad8d355c294cd89751c05b3403fae1"
          }
        },
        "0a51026243034eb29c51e50c573a5bb8": {
          "model_module": "@jupyter-widgets/controls",
          "model_name": "HTMLModel",
          "state": {
            "_view_name": "HTMLView",
            "style": "IPY_MODEL_4a887b5aab38482ba8922a422d14e2e5",
            "_dom_classes": [],
            "description": "",
            "_model_name": "HTMLModel",
            "placeholder": "​",
            "_view_module": "@jupyter-widgets/controls",
            "_model_module_version": "1.5.0",
            "value": " 232k/232k [00:00&lt;00:00, 697kB/s]",
            "_view_count": null,
            "_view_module_version": "1.5.0",
            "description_tooltip": null,
            "_model_module": "@jupyter-widgets/controls",
            "layout": "IPY_MODEL_e77a0120dd40404ca785ea4d359e99ca"
          }
        },
        "96f96f5aa8e14b85a722d7f805383676": {
          "model_module": "@jupyter-widgets/controls",
          "model_name": "ProgressStyleModel",
          "state": {
            "_view_name": "StyleView",
            "_model_name": "ProgressStyleModel",
            "description_width": "initial",
            "_view_module": "@jupyter-widgets/base",
            "_model_module_version": "1.5.0",
            "_view_count": null,
            "_view_module_version": "1.2.0",
            "bar_color": null,
            "_model_module": "@jupyter-widgets/controls"
          }
        },
        "f6ad8d355c294cd89751c05b3403fae1": {
          "model_module": "@jupyter-widgets/base",
          "model_name": "LayoutModel",
          "state": {
            "_view_name": "LayoutView",
            "grid_template_rows": null,
            "right": null,
            "justify_content": null,
            "_view_module": "@jupyter-widgets/base",
            "overflow": null,
            "_model_module_version": "1.2.0",
            "_view_count": null,
            "flex_flow": null,
            "width": null,
            "min_width": null,
            "border": null,
            "align_items": null,
            "bottom": null,
            "_model_module": "@jupyter-widgets/base",
            "top": null,
            "grid_column": null,
            "overflow_y": null,
            "overflow_x": null,
            "grid_auto_flow": null,
            "grid_area": null,
            "grid_template_columns": null,
            "flex": null,
            "_model_name": "LayoutModel",
            "justify_items": null,
            "grid_row": null,
            "max_height": null,
            "align_content": null,
            "visibility": null,
            "align_self": null,
            "height": null,
            "min_height": null,
            "padding": null,
            "grid_auto_rows": null,
            "grid_gap": null,
            "max_width": null,
            "order": null,
            "_view_module_version": "1.2.0",
            "grid_template_areas": null,
            "object_position": null,
            "object_fit": null,
            "grid_auto_columns": null,
            "margin": null,
            "display": null,
            "left": null
          }
        },
        "4a887b5aab38482ba8922a422d14e2e5": {
          "model_module": "@jupyter-widgets/controls",
          "model_name": "DescriptionStyleModel",
          "state": {
            "_view_name": "StyleView",
            "_model_name": "DescriptionStyleModel",
            "description_width": "",
            "_view_module": "@jupyter-widgets/base",
            "_model_module_version": "1.5.0",
            "_view_count": null,
            "_view_module_version": "1.2.0",
            "_model_module": "@jupyter-widgets/controls"
          }
        },
        "e77a0120dd40404ca785ea4d359e99ca": {
          "model_module": "@jupyter-widgets/base",
          "model_name": "LayoutModel",
          "state": {
            "_view_name": "LayoutView",
            "grid_template_rows": null,
            "right": null,
            "justify_content": null,
            "_view_module": "@jupyter-widgets/base",
            "overflow": null,
            "_model_module_version": "1.2.0",
            "_view_count": null,
            "flex_flow": null,
            "width": null,
            "min_width": null,
            "border": null,
            "align_items": null,
            "bottom": null,
            "_model_module": "@jupyter-widgets/base",
            "top": null,
            "grid_column": null,
            "overflow_y": null,
            "overflow_x": null,
            "grid_auto_flow": null,
            "grid_area": null,
            "grid_template_columns": null,
            "flex": null,
            "_model_name": "LayoutModel",
            "justify_items": null,
            "grid_row": null,
            "max_height": null,
            "align_content": null,
            "visibility": null,
            "align_self": null,
            "height": null,
            "min_height": null,
            "padding": null,
            "grid_auto_rows": null,
            "grid_gap": null,
            "max_width": null,
            "order": null,
            "_view_module_version": "1.2.0",
            "grid_template_areas": null,
            "object_position": null,
            "object_fit": null,
            "grid_auto_columns": null,
            "margin": null,
            "display": null,
            "left": null
          }
        }
      }
    }
  },
  "cells": [
    {
      "cell_type": "code",
      "metadata": {
        "id": "lxySSWvPNEN6"
      },
      "source": [
        "!CUDA_LAUNCH_BLOCKING=1"
      ],
      "execution_count": null,
      "outputs": []
    },
    {
      "cell_type": "code",
      "metadata": {
        "id": "u0Qy2pr4CnkY",
        "outputId": "4800ed75-ffca-4dbd-ba75-ae7bf984a8c1",
        "colab": {
          "base_uri": "https://localhost:8080/",
          "height": 35
        }
      },
      "source": [
        "from google.colab import drive\n",
        "drive.mount('/content/drive/', force_remount=True)"
      ],
      "execution_count": null,
      "outputs": [
        {
          "output_type": "stream",
          "text": [
            "Mounted at /content/drive/\n"
          ],
          "name": "stdout"
        }
      ]
    },
    {
      "cell_type": "code",
      "metadata": {
        "id": "KzEeI0fUNJcG"
      },
      "source": [
        "\n"
      ],
      "execution_count": null,
      "outputs": []
    },
    {
      "cell_type": "code",
      "metadata": {
        "id": "PvQ33K0jOjWu",
        "outputId": "53003744-df99-4d25-a726-1d0f69f10b17",
        "colab": {
          "base_uri": "https://localhost:8080/",
          "height": 72
        }
      },
      "source": [
        "! ls /content/trial/multilingual"
      ],
      "execution_count": null,
      "outputs": [
        {
          "output_type": "stream",
          "text": [
            "trial.ar-ar.data  trial.en-en.gold  trial.ru-ru.data  trial.zh-zh.gold\n",
            "trial.ar-ar.gold  trial.fr-fr.data  trial.ru-ru.gold\n",
            "trial.en-en.data  trial.fr-fr.gold  trial.zh-zh.data\n"
          ],
          "name": "stdout"
        }
      ]
    },
    {
      "cell_type": "code",
      "metadata": {
        "id": "ZcIgi950OESV"
      },
      "source": [
        "path_to_data = '/content/drive/My Drive/NLP/trial/'\n",
        "files_cross = \"trial.en-ar.data  trial.en-es.gold  trial.en-ru.data  trial.en-zh.gold  trial.en-ar.gold  trial.en-fr.data  trial.en-ru.gold  trial.en-es.data  trial.en-fr.gold  trial.en-zh.data\"\n",
        "files_cross = files_cross.split('  ')\n",
        "files_multi = \"trial.ar-ar.data  trial.en-en.gold  trial.ru-ru.data  trial.zh-zh.gold  trial.ar-ar.gold  trial.fr-fr.data  trial.ru-ru.gold  trial.en-en.data  trial.fr-fr.gold  trial.zh-zh.data\"\n",
        "files_multi = files_multi.split('  ')\n"
      ],
      "execution_count": null,
      "outputs": []
    },
    {
      "cell_type": "code",
      "metadata": {
        "id": "7bLKvvlKPxYT"
      },
      "source": [
        "data = []\n",
        "results = []\n",
        "for i in files_cross:\n",
        "  path = path_to_data + \"crosslingual/\"+i\n",
        "  if(\"gold\" in i.split('.')):\n",
        "    file = open(path,'r').read().split('\\n')[:-1]\n",
        "    for j in file:\n",
        "      results.append(j.split('\\t'))\n",
        "  else:\n",
        "    file = open(path,'r').read().split('\\n')[:-1]\n",
        "    for j in file:\n",
        "      data.append(j.split('\\t'))\n",
        "  \n",
        "for i in files_multi:\n",
        "  path = path_to_data + \"multilingual/\"+i\n",
        "  if(\"gold\" in i.split('.')):\n",
        "    file = open(path,'r').read().split('\\n')[:-1]\n",
        "    for j in file:\n",
        "      results.append(j.split('\\t'))\n",
        "  else:\n",
        "    file = open(path,'r').read().split('\\n')[:-1]\n",
        "    for j in file:\n",
        "      data.append(j.split('\\t'))"
      ],
      "execution_count": null,
      "outputs": []
    },
    {
      "cell_type": "code",
      "metadata": {
        "id": "Q6t5rQ7nQkOh",
        "outputId": "b13e7ce6-b342-4831-e453-9cd6ab0cf22c",
        "colab": {
          "base_uri": "https://localhost:8080/",
          "height": 201
        }
      },
      "source": [
        "data[0]"
      ],
      "execution_count": null,
      "outputs": [
        {
          "output_type": "execute_result",
          "data": {
            "text/plain": [
              "['trial.en-ar.0',\n",
              " 'report',\n",
              " 'VERB',\n",
              " 'en',\n",
              " '17',\n",
              " 'ar',\n",
              " '1',\n",
              " 'Any alterations which it is proposed to make as a result of this review are to be reported to the Interdepartmental Committee on Charter Repertory for its approval .',\n",
              " 'و  أبلغ  أيضاً  أن  وفاة  \"  خوستنيانو  هورتادو  توري  \"  ترجع  ،  حسب  التاريخ  اﻻكلينيكي  ،  إلى  المرض .']"
            ]
          },
          "metadata": {
            "tags": []
          },
          "execution_count": 7
        }
      ]
    },
    {
      "cell_type": "code",
      "metadata": {
        "id": "mSGrQoa2QuJm"
      },
      "source": [
        "results[0]"
      ],
      "execution_count": null,
      "outputs": []
    },
    {
      "cell_type": "code",
      "metadata": {
        "id": "H4oA6nWDVCTz"
      },
      "source": [
        "import pandas as pd\n",
        "data = pd.DataFrame(data)\n",
        "results = pd.DataFrame(results)\n"
      ],
      "execution_count": null,
      "outputs": []
    },
    {
      "cell_type": "code",
      "metadata": {
        "id": "Mbb8QYa4VO9m",
        "outputId": "4db8c4dc-314b-4bd6-f3ba-b7a45c63d47f",
        "colab": {
          "base_uri": "https://localhost:8080/",
          "height": 206
        }
      },
      "source": [
        "data.head()"
      ],
      "execution_count": null,
      "outputs": [
        {
          "output_type": "execute_result",
          "data": {
            "text/html": [
              "<div>\n",
              "<style scoped>\n",
              "    .dataframe tbody tr th:only-of-type {\n",
              "        vertical-align: middle;\n",
              "    }\n",
              "\n",
              "    .dataframe tbody tr th {\n",
              "        vertical-align: top;\n",
              "    }\n",
              "\n",
              "    .dataframe thead th {\n",
              "        text-align: right;\n",
              "    }\n",
              "</style>\n",
              "<table border=\"1\" class=\"dataframe\">\n",
              "  <thead>\n",
              "    <tr style=\"text-align: right;\">\n",
              "      <th></th>\n",
              "      <th>0</th>\n",
              "      <th>1</th>\n",
              "      <th>2</th>\n",
              "      <th>3</th>\n",
              "      <th>4</th>\n",
              "      <th>5</th>\n",
              "      <th>6</th>\n",
              "      <th>7</th>\n",
              "      <th>8</th>\n",
              "    </tr>\n",
              "  </thead>\n",
              "  <tbody>\n",
              "    <tr>\n",
              "      <th>0</th>\n",
              "      <td>trial.en-ar.0</td>\n",
              "      <td>report</td>\n",
              "      <td>VERB</td>\n",
              "      <td>en</td>\n",
              "      <td>17</td>\n",
              "      <td>ar</td>\n",
              "      <td>1</td>\n",
              "      <td>Any alterations which it is proposed to make a...</td>\n",
              "      <td>و  أبلغ  أيضاً  أن  وفاة  \"  خوستنيانو  هورتاد...</td>\n",
              "    </tr>\n",
              "    <tr>\n",
              "      <th>1</th>\n",
              "      <td>trial.en-ar.1</td>\n",
              "      <td>report</td>\n",
              "      <td>VERB</td>\n",
              "      <td>en</td>\n",
              "      <td>17</td>\n",
              "      <td>ar</td>\n",
              "      <td>2-4</td>\n",
              "      <td>Any alterations which it is proposed to make a...</td>\n",
              "      <td>و  سوف  يرفع  المشاركون  تقارير  عن  الحلقة  ا...</td>\n",
              "    </tr>\n",
              "    <tr>\n",
              "      <th>2</th>\n",
              "      <td>trial.en-ar.2</td>\n",
              "      <td>yet</td>\n",
              "      <td>ADV</td>\n",
              "      <td>en</td>\n",
              "      <td>19</td>\n",
              "      <td>ar</td>\n",
              "      <td>39</td>\n",
              "      <td>The Group also pointed out that it had in its ...</td>\n",
              "      <td>و  أشار  الى  ضرورة  مواصلة  مناقشة  هذه  النق...</td>\n",
              "    </tr>\n",
              "    <tr>\n",
              "      <th>3</th>\n",
              "      <td>trial.en-ar.3</td>\n",
              "      <td>yet</td>\n",
              "      <td>ADV</td>\n",
              "      <td>en</td>\n",
              "      <td>19</td>\n",
              "      <td>ar</td>\n",
              "      <td>5-6</td>\n",
              "      <td>The Group also pointed out that it had in its ...</td>\n",
              "      <td>إﻻ  أن  ه  لم  يتم  حتى  اﻵن  وضع  أي  مبادئ  ...</td>\n",
              "    </tr>\n",
              "    <tr>\n",
              "      <th>4</th>\n",
              "      <td>trial.en-ar.4</td>\n",
              "      <td>receive</td>\n",
              "      <td>VERB</td>\n",
              "      <td>en</td>\n",
              "      <td>14</td>\n",
              "      <td>ar</td>\n",
              "      <td>3</td>\n",
              "      <td>In the circumstances , the Committee finds tha...</td>\n",
              "      <td>و  أشارت  التقارير الواردة  أيضــاً  إلـى  أن ...</td>\n",
              "    </tr>\n",
              "  </tbody>\n",
              "</table>\n",
              "</div>"
            ],
            "text/plain": [
              "               0  ...                                                  8\n",
              "0  trial.en-ar.0  ...  و  أبلغ  أيضاً  أن  وفاة  \"  خوستنيانو  هورتاد...\n",
              "1  trial.en-ar.1  ...  و  سوف  يرفع  المشاركون  تقارير  عن  الحلقة  ا...\n",
              "2  trial.en-ar.2  ...  و  أشار  الى  ضرورة  مواصلة  مناقشة  هذه  النق...\n",
              "3  trial.en-ar.3  ...  إﻻ  أن  ه  لم  يتم  حتى  اﻵن  وضع  أي  مبادئ  ...\n",
              "4  trial.en-ar.4  ...  و  أشارت  التقارير الواردة  أيضــاً  إلـى  أن ...\n",
              "\n",
              "[5 rows x 9 columns]"
            ]
          },
          "metadata": {
            "tags": []
          },
          "execution_count": 6
        }
      ]
    },
    {
      "cell_type": "code",
      "metadata": {
        "id": "d6oExRDcVQgB",
        "outputId": "3407a602-594e-48cc-fbd7-b2b4e43d3b4f",
        "colab": {
          "base_uri": "https://localhost:8080/",
          "height": 53
        }
      },
      "source": [
        "!nvidia-smi"
      ],
      "execution_count": null,
      "outputs": [
        {
          "output_type": "stream",
          "text": [
            "NVIDIA-SMI has failed because it couldn't communicate with the NVIDIA driver. Make sure that the latest NVIDIA driver is installed and running.\n",
            "\n"
          ],
          "name": "stdout"
        }
      ]
    },
    {
      "cell_type": "code",
      "metadata": {
        "id": "tmqHUdDlWC8_",
        "outputId": "3b47573c-8139-4a4b-e77e-356055327436",
        "colab": {
          "base_uri": "https://localhost:8080/",
          "height": 53
        }
      },
      "source": [
        "import torch\n",
        "\n",
        "# If there's a GPU available...\n",
        "if torch.cuda.is_available():    \n",
        "\n",
        "    # Tell PyTorch to use the GPU.    \n",
        "    device = torch.device(\"cuda\")\n",
        "\n",
        "    print('There are %d GPU(s) available.' % torch.cuda.device_count())\n",
        "\n",
        "    print('We will use the GPU:', torch.cuda.get_device_name(0))\n",
        "\n",
        "# If not...\n",
        "else:\n",
        "    print('No GPU available, using the CPU instead.')\n",
        "    device = torch.device(\"cpu\")"
      ],
      "execution_count": null,
      "outputs": [
        {
          "output_type": "stream",
          "text": [
            "There are 1 GPU(s) available.\n",
            "We will use the GPU: Tesla P100-PCIE-16GB\n"
          ],
          "name": "stdout"
        }
      ]
    },
    {
      "cell_type": "code",
      "metadata": {
        "id": "kxokj4qqWRRX",
        "outputId": "8e7e954b-0a5e-447c-ddc0-c7b05771023c",
        "colab": {
          "base_uri": "https://localhost:8080/",
          "height": 655
        }
      },
      "source": [
        "!pip install transformers"
      ],
      "execution_count": null,
      "outputs": [
        {
          "output_type": "stream",
          "text": [
            "Collecting transformers\n",
            "\u001b[?25l  Downloading https://files.pythonhosted.org/packages/19/22/aff234f4a841f8999e68a7a94bdd4b60b4cebcfeca5d67d61cd08c9179de/transformers-3.3.1-py3-none-any.whl (1.1MB)\n",
            "\u001b[K     |████████████████████████████████| 1.1MB 4.7MB/s \n",
            "\u001b[?25hRequirement already satisfied: tqdm>=4.27 in /usr/local/lib/python3.6/dist-packages (from transformers) (4.41.1)\n",
            "Requirement already satisfied: regex!=2019.12.17 in /usr/local/lib/python3.6/dist-packages (from transformers) (2019.12.20)\n",
            "Requirement already satisfied: dataclasses; python_version < \"3.7\" in /usr/local/lib/python3.6/dist-packages (from transformers) (0.7)\n",
            "Requirement already satisfied: requests in /usr/local/lib/python3.6/dist-packages (from transformers) (2.23.0)\n",
            "Requirement already satisfied: numpy in /usr/local/lib/python3.6/dist-packages (from transformers) (1.18.5)\n",
            "Requirement already satisfied: filelock in /usr/local/lib/python3.6/dist-packages (from transformers) (3.0.12)\n",
            "Collecting sacremoses\n",
            "\u001b[?25l  Downloading https://files.pythonhosted.org/packages/7d/34/09d19aff26edcc8eb2a01bed8e98f13a1537005d31e95233fd48216eed10/sacremoses-0.0.43.tar.gz (883kB)\n",
            "\u001b[K     |████████████████████████████████| 890kB 26.0MB/s \n",
            "\u001b[?25hRequirement already satisfied: packaging in /usr/local/lib/python3.6/dist-packages (from transformers) (20.4)\n",
            "Collecting tokenizers==0.8.1.rc2\n",
            "\u001b[?25l  Downloading https://files.pythonhosted.org/packages/80/83/8b9fccb9e48eeb575ee19179e2bdde0ee9a1904f97de5f02d19016b8804f/tokenizers-0.8.1rc2-cp36-cp36m-manylinux1_x86_64.whl (3.0MB)\n",
            "\u001b[K     |████████████████████████████████| 3.0MB 34.1MB/s \n",
            "\u001b[?25hCollecting sentencepiece!=0.1.92\n",
            "\u001b[?25l  Downloading https://files.pythonhosted.org/packages/d4/a4/d0a884c4300004a78cca907a6ff9a5e9fe4f090f5d95ab341c53d28cbc58/sentencepiece-0.1.91-cp36-cp36m-manylinux1_x86_64.whl (1.1MB)\n",
            "\u001b[K     |████████████████████████████████| 1.1MB 46.0MB/s \n",
            "\u001b[?25hRequirement already satisfied: idna<3,>=2.5 in /usr/local/lib/python3.6/dist-packages (from requests->transformers) (2.10)\n",
            "Requirement already satisfied: certifi>=2017.4.17 in /usr/local/lib/python3.6/dist-packages (from requests->transformers) (2020.6.20)\n",
            "Requirement already satisfied: chardet<4,>=3.0.2 in /usr/local/lib/python3.6/dist-packages (from requests->transformers) (3.0.4)\n",
            "Requirement already satisfied: urllib3!=1.25.0,!=1.25.1,<1.26,>=1.21.1 in /usr/local/lib/python3.6/dist-packages (from requests->transformers) (1.24.3)\n",
            "Requirement already satisfied: six in /usr/local/lib/python3.6/dist-packages (from sacremoses->transformers) (1.15.0)\n",
            "Requirement already satisfied: click in /usr/local/lib/python3.6/dist-packages (from sacremoses->transformers) (7.1.2)\n",
            "Requirement already satisfied: joblib in /usr/local/lib/python3.6/dist-packages (from sacremoses->transformers) (0.16.0)\n",
            "Requirement already satisfied: pyparsing>=2.0.2 in /usr/local/lib/python3.6/dist-packages (from packaging->transformers) (2.4.7)\n",
            "Building wheels for collected packages: sacremoses\n",
            "  Building wheel for sacremoses (setup.py) ... \u001b[?25l\u001b[?25hdone\n",
            "  Created wheel for sacremoses: filename=sacremoses-0.0.43-cp36-none-any.whl size=893257 sha256=c3cb5b2f5c642cc45b8234647af67c77dabce838809733ecb58a19b7f829d302\n",
            "  Stored in directory: /root/.cache/pip/wheels/29/3c/fd/7ce5c3f0666dab31a50123635e6fb5e19ceb42ce38d4e58f45\n",
            "Successfully built sacremoses\n",
            "Installing collected packages: sacremoses, tokenizers, sentencepiece, transformers\n",
            "Successfully installed sacremoses-0.0.43 sentencepiece-0.1.91 tokenizers-0.8.1rc2 transformers-3.3.1\n"
          ],
          "name": "stdout"
        }
      ]
    },
    {
      "cell_type": "code",
      "metadata": {
        "id": "S5IQYV8QWVVm",
        "outputId": "44076c33-3d16-402c-d6c7-5e5badb96135",
        "colab": {
          "base_uri": "https://localhost:8080/",
          "height": 85,
          "referenced_widgets": [
            "22c5fc11ab3541ba97d6a364977dbf5a",
            "104134c9112e454d8e747dcca4a2ba9b",
            "848fe7cb6f3c4c06bec5796314536efa",
            "0a51026243034eb29c51e50c573a5bb8",
            "96f96f5aa8e14b85a722d7f805383676",
            "f6ad8d355c294cd89751c05b3403fae1",
            "4a887b5aab38482ba8922a422d14e2e5",
            "e77a0120dd40404ca785ea4d359e99ca"
          ]
        }
      },
      "source": [
        "from transformers import BertTokenizer\n",
        "\n",
        "# Load the BERT tokenizer.\n",
        "print('Loading BERT tokenizer...')\n",
        "tokenizer = BertTokenizer.from_pretrained('bert-base-uncased', do_lower_case=True)"
      ],
      "execution_count": null,
      "outputs": [
        {
          "output_type": "stream",
          "text": [
            "Loading BERT tokenizer...\n"
          ],
          "name": "stdout"
        },
        {
          "output_type": "display_data",
          "data": {
            "application/vnd.jupyter.widget-view+json": {
              "model_id": "22c5fc11ab3541ba97d6a364977dbf5a",
              "version_minor": 0,
              "version_major": 2
            },
            "text/plain": [
              "HBox(children=(FloatProgress(value=0.0, description='Downloading', max=231508.0, style=ProgressStyle(descripti…"
            ]
          },
          "metadata": {
            "tags": []
          }
        },
        {
          "output_type": "stream",
          "text": [
            "\n"
          ],
          "name": "stdout"
        }
      ]
    },
    {
      "cell_type": "code",
      "metadata": {
        "id": "U94_9Vu8WkEO",
        "outputId": "a4233581-a9be-4fbf-d76c-812527036d07",
        "colab": {
          "base_uri": "https://localhost:8080/",
          "height": 92
        }
      },
      "source": [
        "# sentences = data[data.columns[7]] + np.array([' [SEP] ']*data.shape[0]) + data[data.columns[8]]]\n",
        "\n",
        "# Print the original sentence.\n",
        "print(' Original: ', sentences[0])\n",
        "\n",
        "# Print the sentence split into tokens.\n",
        "print('Tokenized: ', tokenizer.tokenize(sentences[0]))\n",
        "\n",
        "# Print the sentence mapped to token ids.\n",
        "print('Token IDs: ', tokenizer.convert_tokens_to_ids(tokenizer.tokenize(sentences[0])))"
      ],
      "execution_count": null,
      "outputs": [
        {
          "output_type": "stream",
          "text": [
            " Original:  Any alterations which it is proposed to make as a result of this review are to be reported to the Interdepartmental Committee on Charter Repertory for its approval . [SEP] و  أبلغ  أيضاً  أن  وفاة  \"  خوستنيانو  هورتادو  توري  \"  ترجع  ،  حسب  التاريخ  اﻻكلينيكي  ،  إلى  المرض .\n",
            "Tokenized:  ['any', 'alterations', 'which', 'it', 'is', 'proposed', 'to', 'make', 'as', 'a', 'result', 'of', 'this', 'review', 'are', 'to', 'be', 'reported', 'to', 'the', 'inter', '##de', '##par', '##tment', '##al', 'committee', 'on', 'charter', 'repertory', 'for', 'its', 'approval', '.', '[SEP]', 'و', 'ا', '##ب', '##ل', '##غ', 'ا', '##ي', '##ض', '##ا', 'ا', '##ن', 'و', '##ف', '##ا', '##ة', '\"', 'خ', '##و', '##س', '##ت', '##ن', '##ي', '##ان', '##و', 'ه', '##و', '##ر', '##ت', '##ا', '##د', '##و', 'ت', '##و', '##ر', '##ي', '\"', 'ت', '##ر', '##ج', '##ع', '،', 'ح', '##س', '##ب', 'ا', '##ل', '##ت', '##ا', '##ر', '##ي', '##خ', '[UNK]', '،', 'ا', '##ل', '##ى', 'ا', '##ل', '##م', '##ر', '##ض', '.']\n",
            "Token IDs:  [2151, 16705, 2029, 2009, 2003, 3818, 2000, 2191, 2004, 1037, 2765, 1997, 2023, 3319, 2024, 2000, 2022, 2988, 2000, 1996, 6970, 3207, 19362, 21181, 2389, 2837, 2006, 6111, 21099, 2005, 2049, 6226, 1012, 102, 1298, 1270, 29816, 23673, 29831, 1270, 14498, 29827, 25573, 1270, 15915, 1298, 29833, 25573, 19433, 1000, 1277, 29836, 29824, 29817, 15915, 14498, 18511, 29836, 1297, 29836, 17149, 29817, 25573, 15394, 29836, 1273, 29836, 17149, 14498, 1000, 1273, 17149, 29819, 29830, 1268, 1276, 29824, 29816, 1270, 23673, 29817, 25573, 17149, 14498, 29821, 100, 1268, 1270, 23673, 29837, 1270, 23673, 22192, 17149, 29827, 1012]\n"
          ],
          "name": "stdout"
        }
      ]
    },
    {
      "cell_type": "code",
      "metadata": {
        "id": "JKogR69WW9im"
      },
      "source": [
        "sentences =  ((data[7][:] + ' [SEP] ' ) + data[8][:])"
      ],
      "execution_count": null,
      "outputs": []
    },
    {
      "cell_type": "code",
      "metadata": {
        "id": "pwbbrjSLXBYp"
      },
      "source": [
        "results = results[1].replace('T',2)\n",
        "results = results.replace('F',1)\n",
        "results = results.replace('R',0)"
      ],
      "execution_count": null,
      "outputs": []
    },
    {
      "cell_type": "code",
      "metadata": {
        "id": "L5UfBJfrEj1g"
      },
      "source": [
        "results = results+1"
      ],
      "execution_count": null,
      "outputs": []
    },
    {
      "cell_type": "code",
      "metadata": {
        "id": "Bis3jOC3uM1m",
        "outputId": "9df98d1c-30a8-46a9-f116-9797689dda00",
        "colab": {
          "base_uri": "https://localhost:8080/",
          "height": 235
        }
      },
      "source": [
        "results"
      ],
      "execution_count": null,
      "outputs": [
        {
          "output_type": "execute_result",
          "data": {
            "text/plain": [
              "0      2\n",
              "1      2\n",
              "2      2\n",
              "3      2\n",
              "4      2\n",
              "      ..\n",
              "195    2\n",
              "196    2\n",
              "197    0\n",
              "198    2\n",
              "199    2\n",
              "Name: 1, Length: 200, dtype: int64"
            ]
          },
          "metadata": {
            "tags": []
          },
          "execution_count": 41
        }
      ]
    },
    {
      "cell_type": "code",
      "metadata": {
        "id": "y3y0jFwoEy0w",
        "outputId": "e50e6af4-3693-4f91-9af8-c59747d782e2",
        "colab": {
          "base_uri": "https://localhost:8080/",
          "height": 35
        }
      },
      "source": [
        "max_len = 0\n",
        "\n",
        "# For every sentence...\n",
        "for sent in sentences:\n",
        "\n",
        "    # Tokenize the text and add `[CLS]` and `[SEP]` tokens.\n",
        "    input_ids = tokenizer.encode(sent, add_special_tokens=True)\n",
        "\n",
        "    # Update the maximum sentence length.\n",
        "    max_len = max(max_len, len(input_ids))\n",
        "\n",
        "print('Max sentence length: ', max_len)"
      ],
      "execution_count": null,
      "outputs": [
        {
          "output_type": "stream",
          "text": [
            "Max sentence length:  470\n"
          ],
          "name": "stdout"
        }
      ]
    },
    {
      "cell_type": "code",
      "metadata": {
        "id": "gWMSbcOjFPd4",
        "outputId": "36d1528d-e9b3-487f-eb5c-f2acb4eaf6a0",
        "colab": {
          "base_uri": "https://localhost:8080/",
          "height": 1000
        }
      },
      "source": [
        "# Tokenize all of the sentences and map the tokens to thier word IDs.\n",
        "import torch\n",
        "input_ids = []\n",
        "attention_masks = []\n",
        "\n",
        "# For every sentence...\n",
        "for sent in sentences:\n",
        "    # `encode_plus` will:\n",
        "    #   (1) Tokenize the sentence.\n",
        "    #   (2) Prepend the `[CLS]` token to the start.\n",
        "    #   (3) Append the `[SEP]` token to the end.\n",
        "    #   (4) Map tokens to their IDs.\n",
        "    #   (5) Pad or truncate the sentence to `max_length`\n",
        "    #   (6) Create attention masks for [PAD] tokens.\n",
        "    encoded_dict = tokenizer.encode_plus(\n",
        "                        sent,                      # Sentence to encode.\n",
        "                        add_special_tokens = True,\n",
        "                        truncation=True, # Add '[CLS]' and '[SEP]'\n",
        "                        max_length = 500,           # Pad & truncate all sentences.\n",
        "                        pad_to_max_length = True,\n",
        "                        return_attention_mask = True,   # Construct attn. masks.\n",
        "                        return_tensors = 'pt',     # Return pytorch tensors.\n",
        "                   )\n",
        "    \n",
        "    # Add the encoded sentence to the list.    \n",
        "    input_ids.append(encoded_dict['input_ids'])\n",
        "    \n",
        "    # And its attention mask (simply differentiates padding from non-padding).\n",
        "    attention_masks.append(encoded_dict['attention_mask'])\n",
        "\n",
        "# Convert the lists into tensors.\n",
        "input_ids = torch.cat(input_ids, dim=0)\n",
        "attention_masks = torch.cat(attention_masks, dim=0)\n",
        "labels = torch.tensor(results)\n",
        "\n",
        "# Print sentence 0, now as a list of IDs.\n",
        "print('Original: ', sentences[0])\n",
        "print('Token IDs:', input_ids[0])"
      ],
      "execution_count": null,
      "outputs": [
        {
          "output_type": "stream",
          "text": [
            "Original:  Any alterations which it is proposed to make as a result of this review are to be reported to the Interdepartmental Committee on Charter Repertory for its approval . [SEP] و  أبلغ  أيضاً  أن  وفاة  \"  خوستنيانو  هورتادو  توري  \"  ترجع  ،  حسب  التاريخ  اﻻكلينيكي  ،  إلى  المرض .\n",
            "Token IDs: tensor([  101,  2151, 16705,  2029,  2009,  2003,  3818,  2000,  2191,  2004,\n",
            "         1037,  2765,  1997,  2023,  3319,  2024,  2000,  2022,  2988,  2000,\n",
            "         1996,  6970,  3207, 19362, 21181,  2389,  2837,  2006,  6111, 21099,\n",
            "         2005,  2049,  6226,  1012,   102,  1298,  1270, 29816, 23673, 29831,\n",
            "         1270, 14498, 29827, 25573,  1270, 15915,  1298, 29833, 25573, 19433,\n",
            "         1000,  1277, 29836, 29824, 29817, 15915, 14498, 18511, 29836,  1297,\n",
            "        29836, 17149, 29817, 25573, 15394, 29836,  1273, 29836, 17149, 14498,\n",
            "         1000,  1273, 17149, 29819, 29830,  1268,  1276, 29824, 29816,  1270,\n",
            "        23673, 29817, 25573, 17149, 14498, 29821,   100,  1268,  1270, 23673,\n",
            "        29837,  1270, 23673, 22192, 17149, 29827,  1012,   102,     0,     0,\n",
            "            0,     0,     0,     0,     0,     0,     0,     0,     0,     0,\n",
            "            0,     0,     0,     0,     0,     0,     0,     0,     0,     0,\n",
            "            0,     0,     0,     0,     0,     0,     0,     0,     0,     0,\n",
            "            0,     0,     0,     0,     0,     0,     0,     0,     0,     0,\n",
            "            0,     0,     0,     0,     0,     0,     0,     0,     0,     0,\n",
            "            0,     0,     0,     0,     0,     0,     0,     0,     0,     0,\n",
            "            0,     0,     0,     0,     0,     0,     0,     0,     0,     0,\n",
            "            0,     0,     0,     0,     0,     0,     0,     0,     0,     0,\n",
            "            0,     0,     0,     0,     0,     0,     0,     0,     0,     0,\n",
            "            0,     0,     0,     0,     0,     0,     0,     0,     0,     0,\n",
            "            0,     0,     0,     0,     0,     0,     0,     0,     0,     0,\n",
            "            0,     0,     0,     0,     0,     0,     0,     0,     0,     0,\n",
            "            0,     0,     0,     0,     0,     0,     0,     0,     0,     0,\n",
            "            0,     0,     0,     0,     0,     0,     0,     0,     0,     0,\n",
            "            0,     0,     0,     0,     0,     0,     0,     0,     0,     0,\n",
            "            0,     0,     0,     0,     0,     0,     0,     0,     0,     0,\n",
            "            0,     0,     0,     0,     0,     0,     0,     0,     0,     0,\n",
            "            0,     0,     0,     0,     0,     0,     0,     0,     0,     0,\n",
            "            0,     0,     0,     0,     0,     0,     0,     0,     0,     0,\n",
            "            0,     0,     0,     0,     0,     0,     0,     0,     0,     0,\n",
            "            0,     0,     0,     0,     0,     0,     0,     0,     0,     0,\n",
            "            0,     0,     0,     0,     0,     0,     0,     0,     0,     0,\n",
            "            0,     0,     0,     0,     0,     0,     0,     0,     0,     0,\n",
            "            0,     0,     0,     0,     0,     0,     0,     0,     0,     0,\n",
            "            0,     0,     0,     0,     0,     0,     0,     0,     0,     0,\n",
            "            0,     0,     0,     0,     0,     0,     0,     0,     0,     0,\n",
            "            0,     0,     0,     0,     0,     0,     0,     0,     0,     0,\n",
            "            0,     0,     0,     0,     0,     0,     0,     0,     0,     0,\n",
            "            0,     0,     0,     0,     0,     0,     0,     0,     0,     0,\n",
            "            0,     0,     0,     0,     0,     0,     0,     0,     0,     0,\n",
            "            0,     0,     0,     0,     0,     0,     0,     0,     0,     0,\n",
            "            0,     0,     0,     0,     0,     0,     0,     0,     0,     0,\n",
            "            0,     0,     0,     0,     0,     0,     0,     0,     0,     0,\n",
            "            0,     0,     0,     0,     0,     0,     0,     0,     0,     0,\n",
            "            0,     0,     0,     0,     0,     0,     0,     0,     0,     0,\n",
            "            0,     0,     0,     0,     0,     0,     0,     0,     0,     0,\n",
            "            0,     0,     0,     0,     0,     0,     0,     0,     0,     0,\n",
            "            0,     0,     0,     0,     0,     0,     0,     0,     0,     0,\n",
            "            0,     0,     0,     0,     0,     0,     0,     0,     0,     0,\n",
            "            0,     0,     0,     0,     0,     0,     0,     0,     0,     0])\n"
          ],
          "name": "stdout"
        },
        {
          "output_type": "stream",
          "text": [
            "/usr/local/lib/python3.6/dist-packages/transformers/tokenization_utils_base.py:1773: FutureWarning: The `pad_to_max_length` argument is deprecated and will be removed in a future version, use `padding=True` or `padding='longest'` to pad to the longest sequence in the batch, or use `padding='max_length'` to pad to a max length. In this case, you can give a specific length with `max_length` (e.g. `max_length=45`) or leave max_length to None to pad to the maximal input size of the model (e.g. 512 for Bert).\n",
            "  FutureWarning,\n"
          ],
          "name": "stderr"
        }
      ]
    },
    {
      "cell_type": "code",
      "metadata": {
        "id": "17X2mWJJFuUB",
        "outputId": "2b898377-36c0-4d7e-9b17-c35868f6582d",
        "colab": {
          "base_uri": "https://localhost:8080/",
          "height": 53
        }
      },
      "source": [
        "from torch.utils.data import TensorDataset, random_split\n",
        "\n",
        "# Combine the training inputs into a TensorDataset.\n",
        "dataset = TensorDataset(input_ids, attention_masks, labels)\n",
        "\n",
        "# Create a 90-10 train-validation split.\n",
        "\n",
        "# Calculate the number of samples to include in each set.\n",
        "train_size = int(0.9 * len(dataset))\n",
        "val_size = len(dataset) - train_size\n",
        "\n",
        "# Divide the dataset by randomly selecting samples.\n",
        "train_dataset, val_dataset = random_split(dataset, [train_size, val_size])\n",
        "\n",
        "print('{:>5,} training samples'.format(train_size))\n",
        "print('{:>5,} validation samples'.format(val_size))"
      ],
      "execution_count": null,
      "outputs": [
        {
          "output_type": "stream",
          "text": [
            "  180 training samples\n",
            "   20 validation samples\n"
          ],
          "name": "stdout"
        }
      ]
    },
    {
      "cell_type": "code",
      "metadata": {
        "id": "CIOoyHpCGo9U"
      },
      "source": [
        "from torch.utils.data import DataLoader, RandomSampler, SequentialSampler\n",
        "\n",
        "# The DataLoader needs to know our batch size for training, so we specify it \n",
        "# here. For fine-tuning BERT on a specific task, the authors recommend a batch \n",
        "# size of 16 or 32.\n",
        "batch_size = 2\n",
        "\n",
        "# Create the DataLoaders for our training and validation sets.\n",
        "# We'll take training samples in random order. \n",
        "train_dataloader = DataLoader(\n",
        "            train_dataset,  # The training samples.\n",
        "            sampler = RandomSampler(train_dataset), # Select batches randomly\n",
        "            batch_size = batch_size # Trains with this batch size.\n",
        "        )\n",
        "\n",
        "# For validation the order doesn't matter, so we'll just read them sequentially.\n",
        "validation_dataloader = DataLoader(\n",
        "            val_dataset, # The validation samples.\n",
        "            sampler = SequentialSampler(val_dataset), # Pull out batches sequentially.\n",
        "            batch_size = batch_size # Evaluate with this batch size.\n",
        "        )"
      ],
      "execution_count": null,
      "outputs": []
    },
    {
      "cell_type": "code",
      "metadata": {
        "id": "odLzbaVGGw0F",
        "outputId": "0ada4285-1237-44f1-e914-7367fdf67744",
        "colab": {
          "base_uri": "https://localhost:8080/",
          "height": 128
        }
      },
      "source": [
        "from transformers import BertForSequenceClassification, AdamW, BertConfig\n",
        "\n",
        "# Load BertForSequenceClassification, the pretrained BERT model with a single \n",
        "# linear classification layer on top. \n",
        "model = BertForSequenceClassification.from_pretrained(\n",
        "    \"bert-base-multilingual-uncased\", # Use the 12-layer BERT model, with an uncased vocab.\n",
        "    num_labels = 3, # The number of output labels--2 for binary classification.\n",
        "                    # You can increase this for multi-class tasks.   \n",
        "    output_attentions = False, # Whether the model returns attentions weights.\n",
        "    output_hidden_states = False, # Whether the model returns all hidden-states.\n",
        ")\n",
        "\n",
        "# Tell pytorch to run this model on the GPU.\n",
        "# model.cuda()"
      ],
      "execution_count": null,
      "outputs": [
        {
          "output_type": "stream",
          "text": [
            "Some weights of the model checkpoint at bert-base-multilingual-uncased were not used when initializing BertForSequenceClassification: ['cls.predictions.bias', 'cls.predictions.transform.dense.weight', 'cls.predictions.transform.dense.bias', 'cls.predictions.decoder.weight', 'cls.seq_relationship.weight', 'cls.seq_relationship.bias', 'cls.predictions.transform.LayerNorm.weight', 'cls.predictions.transform.LayerNorm.bias']\n",
            "- This IS expected if you are initializing BertForSequenceClassification from the checkpoint of a model trained on another task or with another architecture (e.g. initializing a BertForSequenceClassification model from a BertForPretraining model).\n",
            "- This IS NOT expected if you are initializing BertForSequenceClassification from the checkpoint of a model that you expect to be exactly identical (initializing a BertForSequenceClassification model from a BertForSequenceClassification model).\n",
            "Some weights of BertForSequenceClassification were not initialized from the model checkpoint at bert-base-multilingual-uncased and are newly initialized: ['classifier.weight', 'classifier.bias']\n",
            "You should probably TRAIN this model on a down-stream task to be able to use it for predictions and inference.\n"
          ],
          "name": "stderr"
        }
      ]
    },
    {
      "cell_type": "code",
      "metadata": {
        "id": "6BMpmNJmG3QN",
        "outputId": "d4e5b0a3-9db0-4326-9a4b-d647dbc6d037",
        "colab": {
          "base_uri": "https://localhost:8080/",
          "height": 653
        }
      },
      "source": [
        "# Get all of the model's parameters as a list of tuples.\n",
        "params = list(model.named_parameters())\n",
        "\n",
        "print('The BERT model has {:} different named parameters.\\n'.format(len(params)))\n",
        "\n",
        "print('==== Embedding Layer ====\\n')\n",
        "\n",
        "for p in params[0:5]:\n",
        "    print(\"{:<55} {:>12}\".format(p[0], str(tuple(p[1].size()))))\n",
        "\n",
        "print('\\n==== First Transformer ====\\n')\n",
        "\n",
        "for p in params[5:21]:\n",
        "    print(\"{:<55} {:>12}\".format(p[0], str(tuple(p[1].size()))))\n",
        "\n",
        "print('\\n==== Output Layer ====\\n')\n",
        "\n",
        "for p in params[-4:]:\n",
        "    print(\"{:<55} {:>12}\".format(p[0], str(tuple(p[1].size()))))"
      ],
      "execution_count": null,
      "outputs": [
        {
          "output_type": "stream",
          "text": [
            "The BERT model has 201 different named parameters.\n",
            "\n",
            "==== Embedding Layer ====\n",
            "\n",
            "bert.embeddings.word_embeddings.weight                  (105879, 768)\n",
            "bert.embeddings.position_embeddings.weight                (512, 768)\n",
            "bert.embeddings.token_type_embeddings.weight                (2, 768)\n",
            "bert.embeddings.LayerNorm.weight                              (768,)\n",
            "bert.embeddings.LayerNorm.bias                                (768,)\n",
            "\n",
            "==== First Transformer ====\n",
            "\n",
            "bert.encoder.layer.0.attention.self.query.weight          (768, 768)\n",
            "bert.encoder.layer.0.attention.self.query.bias                (768,)\n",
            "bert.encoder.layer.0.attention.self.key.weight            (768, 768)\n",
            "bert.encoder.layer.0.attention.self.key.bias                  (768,)\n",
            "bert.encoder.layer.0.attention.self.value.weight          (768, 768)\n",
            "bert.encoder.layer.0.attention.self.value.bias                (768,)\n",
            "bert.encoder.layer.0.attention.output.dense.weight        (768, 768)\n",
            "bert.encoder.layer.0.attention.output.dense.bias              (768,)\n",
            "bert.encoder.layer.0.attention.output.LayerNorm.weight        (768,)\n",
            "bert.encoder.layer.0.attention.output.LayerNorm.bias          (768,)\n",
            "bert.encoder.layer.0.intermediate.dense.weight           (3072, 768)\n",
            "bert.encoder.layer.0.intermediate.dense.bias                 (3072,)\n",
            "bert.encoder.layer.0.output.dense.weight                 (768, 3072)\n",
            "bert.encoder.layer.0.output.dense.bias                        (768,)\n",
            "bert.encoder.layer.0.output.LayerNorm.weight                  (768,)\n",
            "bert.encoder.layer.0.output.LayerNorm.bias                    (768,)\n",
            "\n",
            "==== Output Layer ====\n",
            "\n",
            "bert.pooler.dense.weight                                  (768, 768)\n",
            "bert.pooler.dense.bias                                        (768,)\n",
            "classifier.weight                                           (3, 768)\n",
            "classifier.bias                                                 (3,)\n"
          ],
          "name": "stdout"
        }
      ]
    },
    {
      "cell_type": "code",
      "metadata": {
        "id": "xaxHb5XzHSA9"
      },
      "source": [
        "# Note: AdamW is a class from the huggingface library (as opposed to pytorch) \n",
        "# I believe the 'W' stands for 'Weight Decay fix\"\n",
        "optimizer = AdamW(model.parameters(),\n",
        "                  lr = 2e-5, # args.learning_rate - default is 5e-5, our notebook had 2e-5\n",
        "                  eps = 1e-8 # args.adam_epsilon  - default is 1e-8.\n",
        "                )\n"
      ],
      "execution_count": null,
      "outputs": []
    },
    {
      "cell_type": "code",
      "metadata": {
        "id": "yG_ag3ghHcQ-"
      },
      "source": [
        "from transformers import get_linear_schedule_with_warmup\n",
        "\n",
        "# Number of training epochs. The BERT authors recommend between 2 and 4. \n",
        "# We chose to run for 4, but we'll see later that this may be over-fitting the\n",
        "# training data.\n",
        "epochs = 4\n",
        "\n",
        "# Total number of training steps is [number of batches] x [number of epochs]. \n",
        "# (Note that this is not the same as the number of training samples).\n",
        "total_steps = len(train_dataloader) * epochs\n",
        "\n",
        "# Create the learning rate scheduler.\n",
        "scheduler = get_linear_schedule_with_warmup(optimizer, \n",
        "                                            num_warmup_steps = 0, # Default value in run_glue.py\n",
        "                                            num_training_steps = total_steps)"
      ],
      "execution_count": null,
      "outputs": []
    },
    {
      "cell_type": "code",
      "metadata": {
        "id": "j0jhTg1VHfdR"
      },
      "source": [
        "import numpy as np\n",
        "\n",
        "# Function to calculate the accuracy of our predictions vs labels\n",
        "def flat_accuracy(preds, labels):\n",
        "    pred_flat = np.argmax(preds, axis=1).flatten()\n",
        "    labels_flat = labels.flatten()\n",
        "    return np.sum(pred_flat == labels_flat) / len(labels_flat)"
      ],
      "execution_count": null,
      "outputs": []
    },
    {
      "cell_type": "code",
      "metadata": {
        "id": "rBd7Pv-yHiv8"
      },
      "source": [
        "import time\n",
        "import datetime\n",
        "\n",
        "def format_time(elapsed):\n",
        "    '''\n",
        "    Takes a time in seconds and returns a string hh:mm:ss\n",
        "    '''\n",
        "    # Round to the nearest second.\n",
        "    elapsed_rounded = int(round((elapsed)))\n",
        "    \n",
        "    # Format as hh:mm:ss\n",
        "    return str(datetime.timedelta(seconds=elapsed_rounded))"
      ],
      "execution_count": null,
      "outputs": []
    },
    {
      "cell_type": "code",
      "metadata": {
        "id": "n0pG6f5CHkqF",
        "outputId": "a9e6c6d4-9aae-4861-dbb4-de5c5cc22f31",
        "colab": {
          "base_uri": "https://localhost:8080/",
          "height": 1000
        }
      },
      "source": [
        "import random\n",
        "import numpy as np\n",
        "\n",
        "# This training code is based on the `run_glue.py` script here:\n",
        "# https://github.com/huggingface/transformers/blob/5bfcd0485ece086ebcbed2d008813037968a9e58/examples/run_glue.py#L128\n",
        "\n",
        "# Set the seed value all over the place to make this reproducible.\n",
        "seed_val = 42\n",
        "\n",
        "random.seed(seed_val)\n",
        "np.random.seed(seed_val)\n",
        "torch.manual_seed(seed_val)\n",
        "# torch.cuda.manual_seed_all(seed_val)\n",
        "\n",
        "# We'll store a number of quantities such as training and validation loss, \n",
        "# validation accuracy, and timings.\n",
        "training_stats = []\n",
        "\n",
        "# Measure the total training time for the whole run.\n",
        "total_t0 = time.time()\n",
        "\n",
        "# For each epoch...\n",
        "for epoch_i in range(0, epochs):\n",
        "    \n",
        "    # ========================================\n",
        "    #               Training\n",
        "    # ========================================\n",
        "    \n",
        "    # Perform one full pass over the training set.\n",
        "\n",
        "    print(\"\")\n",
        "    print('======== Epoch {:} / {:} ========'.format(epoch_i + 1, epochs))\n",
        "    print('Training...')\n",
        "\n",
        "    # Measure how long the training epoch takes.\n",
        "    t0 = time.time()\n",
        "\n",
        "    # Reset the total loss for this epoch.\n",
        "    total_train_loss = 0\n",
        "\n",
        "    # Put the model into training mode. Don't be mislead--the call to \n",
        "    # `train` just changes the *mode*, it doesn't *perform* the training.\n",
        "    # `dropout` and `batchnorm` layers behave differently during training\n",
        "    # vs. test (source: https://stackoverflow.com/questions/51433378/what-does-model-train-do-in-pytorch)\n",
        "    model.train()\n",
        "\n",
        "    # For each batch of training data...\n",
        "    for step, batch in enumerate(train_dataloader):\n",
        "\n",
        "        # Progress update every 40 batches.\n",
        "        if step % 40 == 0 and not step == 0:\n",
        "            # Calculate elapsed time in minutes.\n",
        "            elapsed = format_time(time.time() - t0)\n",
        "            \n",
        "            # Report progress.\n",
        "            print('  Batch {:>5,}  of  {:>5,}.    Elapsed: {:}.'.format(step, len(train_dataloader), elapsed))\n",
        "\n",
        "        # Unpack this training batch from our dataloader. \n",
        "        #\n",
        "        # As we unpack the batch, we'll also copy each tensor to the GPU using the \n",
        "        # `to` method.\n",
        "        #\n",
        "        # `batch` contains three pytorch tensors:\n",
        "        #   [0]: input ids \n",
        "        #   [1]: attention masks\n",
        "        #   [2]: labels \n",
        "        print('here - ',batch[0].get_device())\n",
        "        # print(device)\n",
        "        # print(type(batch))\n",
        "        # print(type(batch[0]))\n",
        "        p_batch = batch[0]\n",
        "        b_input_ids = p_batch\n",
        "        b_input_mask = batch[1]\n",
        "        b_labels = batch[2]\n",
        "\n",
        "        # Always clear any previously calculated gradients before performing a\n",
        "        # backward pass. PyTorch doesn't do this automatically because \n",
        "        # accumulating the gradients is \"convenient while training RNNs\". \n",
        "        # (source: https://stackoverflow.com/questions/48001598/why-do-we-need-to-call-zero-grad-in-pytorch)\n",
        "        model.zero_grad()        \n",
        "\n",
        "        # Perform a forward pass (evaluate the model on this training batch).\n",
        "        # The documentation for this `model` function is here: \n",
        "        # https://huggingface.co/transformers/v2.2.0/model_doc/bert.html#transformers.BertForSequenceClassification\n",
        "        # It returns different numbers of parameters depending on what arguments\n",
        "        # arge given and what flags are set. For our useage here, it returns\n",
        "        # the loss (because we provided labels) and the \"logits\"--the model\n",
        "        # outputs prior to activation.\n",
        "        print(b_labels)\n",
        "        loss, logits = model(b_input_ids, \n",
        "                             token_type_ids=None, \n",
        "                             attention_mask=b_input_mask, \n",
        "                             labels=b_labels)\n",
        "\n",
        "        # Accumulate the training loss over all of the batches so that we can\n",
        "        # calculate the average loss at the end. `loss` is a Tensor containing a\n",
        "        # single value; the `.item()` function just returns the Python value \n",
        "        # from the tensor.\n",
        "        \n",
        "        # print(loss)\n",
        "        total_train_loss += loss.item()\n",
        "\n",
        "        # Perform a backward pass to calculate the gradients.\n",
        "        loss.backward()\n",
        "\n",
        "        # Clip the norm of the gradients to 1.0.\n",
        "        # This is to help prevent the \"exploding gradients\" problem.\n",
        "        torch.nn.utils.clip_grad_norm_(model.parameters(), 1.0)\n",
        "\n",
        "        # Update parameters and take a step using the computed gradient.\n",
        "        # The optimizer dictates the \"update rule\"--how the parameters are\n",
        "        # modified based on their gradients, the learning rate, etc.\n",
        "        optimizer.step()\n",
        "\n",
        "        # Update the learning rate.\n",
        "        scheduler.step()\n",
        "\n",
        "    # Calculate the average loss over all of the batches.\n",
        "    avg_train_loss = total_train_loss / len(train_dataloader)            \n",
        "    \n",
        "    # Measure how long this epoch took.\n",
        "    training_time = format_time(time.time() - t0)\n",
        "\n",
        "    print(\"\")\n",
        "    print(\"  Average training loss: {0:.2f}\".format(avg_train_loss))\n",
        "    print(\"  Training epcoh took: {:}\".format(training_time))\n",
        "        \n",
        "    # ========================================\n",
        "    #               Validation\n",
        "    # ========================================\n",
        "    # After the completion of each training epoch, measure our performance on\n",
        "    # our validation set.\n",
        "\n",
        "    print(\"\")\n",
        "    print(\"Running Validation...\")\n",
        "\n",
        "    t0 = time.time()\n",
        "\n",
        "    # Put the model in evaluation mode--the dropout layers behave differently\n",
        "    # during evaluation.\n",
        "    model.eval()\n",
        "\n",
        "    # Tracking variables \n",
        "    total_eval_accuracy = 0\n",
        "    total_eval_loss = 0\n",
        "    nb_eval_steps = 0\n",
        "\n",
        "    # Evaluate data for one epoch\n",
        "    for batch in validation_dataloader:\n",
        "        \n",
        "        # Unpack this training batch from our dataloader. \n",
        "        #\n",
        "        # As we unpack the batch, we'll also copy each tensor to the GPU using \n",
        "        # the `to` method.\n",
        "        #\n",
        "        # `batch` contains three pytorch tensors:\n",
        "        #   [0]: input ids \n",
        "        #   [1]: attention masks\n",
        "        #   [2]: labels \n",
        "        b_input_ids = batch[0]\n",
        "        b_input_mask = batch[1]\n",
        "        b_labels = batch[2]\n",
        "        \n",
        "        # Tell pytorch not to bother with constructing the compute graph during\n",
        "        # the forward pass, since this is only needed for backprop (training).\n",
        "        with torch.no_grad():        \n",
        "\n",
        "            # Forward pass, calculate logit predictions.\n",
        "            # token_type_ids is the same as the \"segment ids\", which \n",
        "            # differentiates sentence 1 and 2 in 2-sentence tasks.\n",
        "            # The documentation for this `model` function is here: \n",
        "            # https://huggingface.co/transformers/v2.2.0/model_doc/bert.html#transformers.BertForSequenceClassification\n",
        "            # Get the \"logits\" output by the model. The \"logits\" are the output\n",
        "            # values prior to applying an activation function like the softmax.\n",
        "            (loss, logits) = model(b_input_ids, \n",
        "                                   token_type_ids=None, \n",
        "                                   attention_mask=b_input_mask,\n",
        "                                   labels=b_labels)\n",
        "            \n",
        "        # Accumulate the validation loss.\n",
        "        total_eval_loss += loss.item()\n",
        "\n",
        "        # Move logits and labels to CPU\n",
        "        logits = logits.detach().numpy()\n",
        "        label_ids = b_labels.numpy()\n",
        "\n",
        "        # Calculate the accuracy for this batch of test sentences, and\n",
        "        # accumulate it over all batches.\n",
        "        total_eval_accuracy += flat_accuracy(logits, label_ids)\n",
        "        \n",
        "\n",
        "    # Report the final accuracy for this validation run.\n",
        "    avg_val_accuracy = total_eval_accuracy / len(validation_dataloader)\n",
        "    print(\"  Accuracy: {0:.2f}\".format(avg_val_accuracy))\n",
        "\n",
        "    # Calculate the average loss over all of the batches.\n",
        "    avg_val_loss = total_eval_loss / len(validation_dataloader)\n",
        "    \n",
        "    # Measure how long the validation run took.\n",
        "    validation_time = format_time(time.time() - t0)\n",
        "    \n",
        "    print(\"  Validation Loss: {0:.2f}\".format(avg_val_loss))\n",
        "    print(\"  Validation took: {:}\".format(validation_time))\n",
        "\n",
        "    # Record all statistics from this epoch.\n",
        "    training_stats.append(\n",
        "        {\n",
        "            'epoch': epoch_i + 1,\n",
        "            'Training Loss': avg_train_loss,\n",
        "            'Valid. Loss': avg_val_loss,\n",
        "            'Valid. Accur.': avg_val_accuracy,\n",
        "            'Training Time': training_time,\n",
        "            'Validation Time': validation_time\n",
        "        }\n",
        "    )\n",
        "\n",
        "print(\"\")\n",
        "print(\"Training complete!\")\n",
        "\n",
        "print(\"Total training took {:} (h:mm:ss)\".format(format_time(time.time()-total_t0)))"
      ],
      "execution_count": null,
      "outputs": [
        {
          "output_type": "stream",
          "text": [
            "\n",
            "======== Epoch 1 / 4 ========\n",
            "Training...\n",
            "here -  -1\n",
            "tensor([2, 2])\n",
            "here -  -1\n",
            "tensor([2, 2])\n",
            "here -  -1\n",
            "tensor([2, 2])\n",
            "here -  -1\n",
            "tensor([0, 2])\n",
            "here -  -1\n",
            "tensor([2, 0])\n",
            "here -  -1\n",
            "tensor([1, 2])\n",
            "here -  -1\n",
            "tensor([0, 2])\n",
            "here -  -1\n",
            "tensor([2, 1])\n",
            "here -  -1\n",
            "tensor([2, 2])\n",
            "here -  -1\n",
            "tensor([2, 0])\n",
            "here -  -1\n",
            "tensor([2, 2])\n",
            "here -  -1\n",
            "tensor([2, 0])\n",
            "here -  -1\n",
            "tensor([2, 0])\n",
            "here -  -1\n",
            "tensor([2, 2])\n",
            "here -  -1\n",
            "tensor([2, 2])\n",
            "here -  -1\n",
            "tensor([2, 2])\n",
            "here -  -1\n",
            "tensor([1, 1])\n",
            "here -  -1\n",
            "tensor([2, 2])\n",
            "here -  -1\n",
            "tensor([2, 1])\n",
            "here -  -1\n",
            "tensor([2, 0])\n",
            "here -  -1\n",
            "tensor([1, 2])\n",
            "here -  -1\n",
            "tensor([2, 2])\n",
            "here -  -1\n",
            "tensor([2, 2])\n",
            "here -  -1\n",
            "tensor([0, 2])\n",
            "here -  -1\n",
            "tensor([1, 2])\n",
            "here -  -1\n",
            "tensor([2, 0])\n",
            "here -  -1\n",
            "tensor([2, 2])\n",
            "here -  -1\n",
            "tensor([0, 2])\n",
            "here -  -1\n",
            "tensor([0, 2])\n",
            "here -  -1\n",
            "tensor([2, 0])\n",
            "here -  -1\n",
            "tensor([0, 1])\n",
            "here -  -1\n",
            "tensor([0, 2])\n",
            "here -  -1\n",
            "tensor([0, 2])\n",
            "here -  -1\n",
            "tensor([2, 0])\n",
            "here -  -1\n",
            "tensor([2, 0])\n",
            "here -  -1\n",
            "tensor([2, 2])\n",
            "here -  -1\n",
            "tensor([2, 0])\n",
            "here -  -1\n",
            "tensor([2, 2])\n",
            "here -  -1\n",
            "tensor([0, 2])\n",
            "here -  -1\n",
            "tensor([2, 2])\n",
            "  Batch    40  of     90.    Elapsed: 0:08:24.\n",
            "here -  -1\n",
            "tensor([0, 2])\n",
            "here -  -1\n",
            "tensor([2, 0])\n",
            "here -  -1\n",
            "tensor([2, 2])\n",
            "here -  -1\n",
            "tensor([0, 2])\n",
            "here -  -1\n",
            "tensor([2, 2])\n",
            "here -  -1\n",
            "tensor([2, 2])\n",
            "here -  -1\n",
            "tensor([2, 0])\n",
            "here -  -1\n",
            "tensor([2, 2])\n",
            "here -  -1\n",
            "tensor([2, 2])\n",
            "here -  -1\n",
            "tensor([0, 2])\n",
            "here -  -1\n",
            "tensor([0, 2])\n",
            "here -  -1\n",
            "tensor([2, 0])\n",
            "here -  -1\n",
            "tensor([2, 2])\n",
            "here -  -1\n",
            "tensor([1, 2])\n",
            "here -  -1\n",
            "tensor([1, 2])\n",
            "here -  -1\n",
            "tensor([0, 2])\n",
            "here -  -1\n",
            "tensor([2, 2])\n",
            "here -  -1\n",
            "tensor([0, 2])\n",
            "here -  -1\n",
            "tensor([1, 1])\n",
            "here -  -1\n",
            "tensor([2, 2])\n",
            "here -  -1\n",
            "tensor([2, 0])\n",
            "here -  -1\n",
            "tensor([2, 1])\n",
            "here -  -1\n",
            "tensor([0, 2])\n",
            "here -  -1\n",
            "tensor([2, 2])\n",
            "here -  -1\n",
            "tensor([2, 2])\n",
            "here -  -1\n",
            "tensor([2, 2])\n",
            "here -  -1\n",
            "tensor([0, 2])\n",
            "here -  -1\n",
            "tensor([0, 2])\n",
            "here -  -1\n",
            "tensor([2, 2])\n",
            "here -  -1\n",
            "tensor([1, 2])\n",
            "here -  -1\n",
            "tensor([1, 0])\n",
            "here -  -1\n",
            "tensor([2, 2])\n",
            "here -  -1\n",
            "tensor([0, 2])\n",
            "here -  -1\n",
            "tensor([0, 1])\n",
            "here -  -1\n",
            "tensor([2, 2])\n",
            "here -  -1\n",
            "tensor([1, 2])\n",
            "here -  -1\n",
            "tensor([2, 2])\n",
            "here -  -1\n",
            "tensor([0, 0])\n",
            "here -  -1\n",
            "tensor([1, 1])\n",
            "here -  -1\n",
            "tensor([1, 0])\n",
            "  Batch    80  of     90.    Elapsed: 0:16:46.\n",
            "here -  -1\n",
            "tensor([0, 0])\n",
            "here -  -1\n",
            "tensor([1, 1])\n",
            "here -  -1\n",
            "tensor([0, 0])\n",
            "here -  -1\n",
            "tensor([2, 2])\n",
            "here -  -1\n",
            "tensor([0, 0])\n",
            "here -  -1\n",
            "tensor([1, 2])\n",
            "here -  -1\n",
            "tensor([2, 2])\n",
            "here -  -1\n",
            "tensor([0, 2])\n",
            "here -  -1\n",
            "tensor([2, 2])\n",
            "here -  -1\n",
            "tensor([2, 2])\n",
            "\n",
            "  Average training loss: 0.97\n",
            "  Training epcoh took: 0:18:52\n",
            "\n",
            "Running Validation...\n",
            "  Accuracy: 0.80\n",
            "  Validation Loss: 0.87\n",
            "  Validation took: 0:00:36\n",
            "\n",
            "======== Epoch 2 / 4 ========\n",
            "Training...\n",
            "here -  -1\n",
            "tensor([2, 1])\n",
            "here -  -1\n",
            "tensor([2, 0])\n",
            "here -  -1\n",
            "tensor([2, 2])\n",
            "here -  -1\n",
            "tensor([0, 2])\n",
            "here -  -1\n",
            "tensor([2, 1])\n",
            "here -  -1\n",
            "tensor([0, 2])\n",
            "here -  -1\n",
            "tensor([2, 2])\n",
            "here -  -1\n",
            "tensor([2, 2])\n",
            "here -  -1\n",
            "tensor([2, 2])\n",
            "here -  -1\n",
            "tensor([2, 0])\n",
            "here -  -1\n",
            "tensor([0, 2])\n",
            "here -  -1\n",
            "tensor([1, 1])\n",
            "here -  -1\n",
            "tensor([2, 2])\n",
            "here -  -1\n",
            "tensor([2, 0])\n",
            "here -  -1\n",
            "tensor([2, 1])\n",
            "here -  -1\n",
            "tensor([2, 0])\n",
            "here -  -1\n",
            "tensor([2, 0])\n",
            "here -  -1\n",
            "tensor([2, 0])\n",
            "here -  -1\n",
            "tensor([2, 0])\n",
            "here -  -1\n",
            "tensor([2, 2])\n",
            "here -  -1\n",
            "tensor([2, 0])\n",
            "here -  -1\n",
            "tensor([2, 2])\n",
            "here -  -1\n",
            "tensor([1, 2])\n",
            "here -  -1\n",
            "tensor([0, 2])\n",
            "here -  -1\n",
            "tensor([2, 0])\n",
            "here -  -1\n",
            "tensor([2, 2])\n",
            "here -  -1\n",
            "tensor([2, 2])\n",
            "here -  -1\n",
            "tensor([2, 0])\n",
            "here -  -1\n",
            "tensor([0, 1])\n",
            "here -  -1\n",
            "tensor([0, 2])\n",
            "here -  -1\n",
            "tensor([2, 2])\n",
            "here -  -1\n",
            "tensor([0, 2])\n",
            "here -  -1\n",
            "tensor([2, 2])\n",
            "here -  -1\n",
            "tensor([2, 1])\n",
            "here -  -1\n",
            "tensor([0, 0])\n",
            "here -  -1\n",
            "tensor([2, 0])\n",
            "here -  -1\n",
            "tensor([2, 0])\n",
            "here -  -1\n",
            "tensor([2, 1])\n",
            "here -  -1\n",
            "tensor([2, 2])\n",
            "here -  -1\n",
            "tensor([1, 0])\n",
            "  Batch    40  of     90.    Elapsed: 0:08:22.\n",
            "here -  -1\n",
            "tensor([2, 2])\n",
            "here -  -1\n",
            "tensor([2, 2])\n",
            "here -  -1\n",
            "tensor([2, 1])\n",
            "here -  -1\n",
            "tensor([2, 1])\n",
            "here -  -1\n",
            "tensor([0, 2])\n",
            "here -  -1\n",
            "tensor([1, 2])\n",
            "here -  -1\n",
            "tensor([2, 0])\n",
            "here -  -1\n",
            "tensor([1, 2])\n",
            "here -  -1\n",
            "tensor([2, 2])\n",
            "here -  -1\n",
            "tensor([2, 2])\n",
            "here -  -1\n",
            "tensor([1, 1])\n",
            "here -  -1\n",
            "tensor([0, 0])\n",
            "here -  -1\n",
            "tensor([1, 2])\n",
            "here -  -1\n",
            "tensor([2, 0])\n",
            "here -  -1\n",
            "tensor([2, 2])\n",
            "here -  -1\n",
            "tensor([2, 0])\n",
            "here -  -1\n",
            "tensor([2, 2])\n",
            "here -  -1\n",
            "tensor([2, 0])\n",
            "here -  -1\n",
            "tensor([2, 1])\n",
            "here -  -1\n",
            "tensor([0, 2])\n",
            "here -  -1\n",
            "tensor([2, 2])\n",
            "here -  -1\n",
            "tensor([2, 2])\n",
            "here -  -1\n",
            "tensor([0, 0])\n",
            "here -  -1\n",
            "tensor([1, 2])\n",
            "here -  -1\n",
            "tensor([0, 0])\n",
            "here -  -1\n",
            "tensor([2, 2])\n",
            "here -  -1\n",
            "tensor([0, 2])\n",
            "here -  -1\n",
            "tensor([2, 2])\n",
            "here -  -1\n",
            "tensor([2, 1])\n",
            "here -  -1\n",
            "tensor([2, 1])\n",
            "here -  -1\n",
            "tensor([2, 2])\n",
            "here -  -1\n",
            "tensor([2, 2])\n",
            "here -  -1\n",
            "tensor([0, 0])\n",
            "here -  -1\n",
            "tensor([2, 2])\n",
            "here -  -1\n",
            "tensor([2, 2])\n",
            "here -  -1\n",
            "tensor([0, 2])\n",
            "here -  -1\n",
            "tensor([0, 2])\n",
            "here -  -1\n",
            "tensor([0, 0])\n",
            "here -  -1\n",
            "tensor([2, 2])\n",
            "here -  -1\n",
            "tensor([0, 1])\n",
            "  Batch    80  of     90.    Elapsed: 0:16:42.\n",
            "here -  -1\n",
            "tensor([2, 2])\n",
            "here -  -1\n",
            "tensor([2, 2])\n",
            "here -  -1\n",
            "tensor([2, 0])\n",
            "here -  -1\n",
            "tensor([0, 2])\n",
            "here -  -1\n",
            "tensor([2, 1])\n",
            "here -  -1\n",
            "tensor([2, 2])\n",
            "here -  -1\n",
            "tensor([2, 2])\n",
            "here -  -1\n",
            "tensor([2, 0])\n",
            "here -  -1\n",
            "tensor([2, 2])\n",
            "here -  -1\n",
            "tensor([2, 2])\n",
            "\n",
            "  Average training loss: 0.90\n",
            "  Training epcoh took: 0:18:47\n",
            "\n",
            "Running Validation...\n",
            "  Accuracy: 0.80\n",
            "  Validation Loss: 0.75\n",
            "  Validation took: 0:00:36\n",
            "\n",
            "======== Epoch 3 / 4 ========\n",
            "Training...\n",
            "here -  -1\n",
            "tensor([2, 2])\n",
            "here -  -1\n",
            "tensor([2, 2])\n",
            "here -  -1\n",
            "tensor([2, 2])\n",
            "here -  -1\n",
            "tensor([0, 2])\n",
            "here -  -1\n",
            "tensor([2, 2])\n",
            "here -  -1\n",
            "tensor([2, 0])\n",
            "here -  -1\n",
            "tensor([0, 2])\n",
            "here -  -1\n",
            "tensor([2, 2])\n",
            "here -  -1\n",
            "tensor([0, 0])\n",
            "here -  -1\n",
            "tensor([0, 2])\n",
            "here -  -1\n",
            "tensor([2, 2])\n",
            "here -  -1\n",
            "tensor([2, 2])\n",
            "here -  -1\n",
            "tensor([2, 2])\n",
            "here -  -1\n",
            "tensor([1, 2])\n",
            "here -  -1\n",
            "tensor([2, 2])\n",
            "here -  -1\n",
            "tensor([1, 2])\n",
            "here -  -1\n",
            "tensor([1, 2])\n",
            "here -  -1\n",
            "tensor([2, 0])\n",
            "here -  -1\n",
            "tensor([2, 1])\n",
            "here -  -1\n",
            "tensor([0, 0])\n",
            "here -  -1\n",
            "tensor([2, 2])\n",
            "here -  -1\n",
            "tensor([0, 2])\n",
            "here -  -1\n",
            "tensor([1, 2])\n",
            "here -  -1\n",
            "tensor([2, 0])\n",
            "here -  -1\n",
            "tensor([2, 1])\n",
            "here -  -1\n",
            "tensor([1, 2])\n",
            "here -  -1\n",
            "tensor([2, 2])\n",
            "here -  -1\n",
            "tensor([2, 2])\n",
            "here -  -1\n",
            "tensor([0, 2])\n",
            "here -  -1\n",
            "tensor([2, 2])\n",
            "here -  -1\n",
            "tensor([0, 2])\n",
            "here -  -1\n",
            "tensor([2, 2])\n",
            "here -  -1\n",
            "tensor([2, 0])\n",
            "here -  -1\n",
            "tensor([0, 2])\n",
            "here -  -1\n",
            "tensor([0, 2])\n",
            "here -  -1\n",
            "tensor([2, 2])\n",
            "here -  -1\n",
            "tensor([2, 2])\n",
            "here -  -1\n",
            "tensor([2, 2])\n",
            "here -  -1\n",
            "tensor([0, 2])\n",
            "here -  -1\n",
            "tensor([2, 0])\n",
            "  Batch    40  of     90.    Elapsed: 0:08:18.\n",
            "here -  -1\n",
            "tensor([2, 2])\n",
            "here -  -1\n",
            "tensor([2, 1])\n",
            "here -  -1\n",
            "tensor([2, 2])\n",
            "here -  -1\n",
            "tensor([0, 2])\n",
            "here -  -1\n",
            "tensor([0, 0])\n",
            "here -  -1\n",
            "tensor([2, 2])\n",
            "here -  -1\n",
            "tensor([2, 2])\n",
            "here -  -1\n",
            "tensor([2, 2])\n",
            "here -  -1\n",
            "tensor([1, 0])\n",
            "here -  -1\n",
            "tensor([1, 2])\n",
            "here -  -1\n",
            "tensor([0, 2])\n",
            "here -  -1\n",
            "tensor([0, 0])\n",
            "here -  -1\n",
            "tensor([0, 2])\n",
            "here -  -1\n",
            "tensor([2, 0])\n",
            "here -  -1\n",
            "tensor([2, 2])\n",
            "here -  -1\n",
            "tensor([1, 2])\n",
            "here -  -1\n",
            "tensor([2, 2])\n",
            "here -  -1\n",
            "tensor([2, 0])\n",
            "here -  -1\n",
            "tensor([2, 2])\n",
            "here -  -1\n",
            "tensor([2, 1])\n",
            "here -  -1\n",
            "tensor([0, 2])\n",
            "here -  -1\n",
            "tensor([2, 0])\n",
            "here -  -1\n",
            "tensor([1, 2])\n",
            "here -  -1\n",
            "tensor([0, 2])\n",
            "here -  -1\n",
            "tensor([2, 2])\n",
            "here -  -1\n",
            "tensor([2, 1])\n",
            "here -  -1\n",
            "tensor([2, 0])\n",
            "here -  -1\n",
            "tensor([0, 2])\n",
            "here -  -1\n",
            "tensor([0, 2])\n",
            "here -  -1\n",
            "tensor([2, 2])\n"
          ],
          "name": "stdout"
        }
      ]
    },
    {
      "cell_type": "code",
      "metadata": {
        "id": "PrLND5ukHp7i",
        "outputId": "380f6031-e58c-42f5-ec8f-f529fe0ede0b",
        "colab": {
          "base_uri": "https://localhost:8080/",
          "height": 35
        }
      },
      "source": [
        "type(device)"
      ],
      "execution_count": null,
      "outputs": [
        {
          "output_type": "execute_result",
          "data": {
            "text/plain": [
              "torch.device"
            ]
          },
          "metadata": {
            "tags": []
          },
          "execution_count": 30
        }
      ]
    },
    {
      "cell_type": "code",
      "metadata": {
        "id": "tZjC_hn8bniP",
        "outputId": "e5d1a100-cd3f-48ba-cafa-866c22ea7a92",
        "colab": {
          "base_uri": "https://localhost:8080/",
          "height": 235
        }
      },
      "source": [
        "labels"
      ],
      "execution_count": null,
      "outputs": [
        {
          "output_type": "execute_result",
          "data": {
            "text/plain": [
              "tensor([ 1,  1,  1,  1,  1,  1,  1,  1,  1,  1, -1,  1, -1, -1,  0, -1,  1,  1,\n",
              "        -1,  1,  1, -1,  1,  1, -1,  0,  1,  1,  1,  1, -1,  1, -1, -1, -1, -1,\n",
              "        -1,  1, -1,  1,  1,  1,  1,  1,  1,  1,  1,  1,  1,  1, -1,  0, -1, -1,\n",
              "         0, -1,  1,  1, -1,  1,  1,  1,  1,  1, -1,  1,  1,  1,  1,  1, -1,  1,\n",
              "         1, -1, -1, -1,  1,  1,  1, -1,  1,  1,  1,  1,  1,  1,  1,  1,  1,  1,\n",
              "         1,  1, -1, -1,  0, -1,  1,  1, -1,  1,  0,  1, -1, -1,  1,  1, -1,  1,\n",
              "         0,  1, -1,  1,  1, -1,  0,  1,  1,  1, -1,  1, -1, -1,  1,  1,  1,  1,\n",
              "         0,  0,  0,  0,  0,  0, -1, -1,  1,  1,  1,  1,  0,  0,  1,  1,  1,  1,\n",
              "        -1, -1,  1,  1,  1,  1,  0,  0,  1,  1,  1,  1,  1,  1, -1, -1,  1,  1,\n",
              "         1,  1,  1,  1,  0,  0,  1,  0,  1,  1,  1,  1,  1,  1,  0,  1,  1,  1,\n",
              "         1,  1,  1, -1,  1,  0,  1,  1,  1,  1,  0, -1,  0,  0,  1,  1,  1, -1,\n",
              "         1,  1])"
            ]
          },
          "metadata": {
            "tags": []
          },
          "execution_count": 38
        }
      ]
    },
    {
      "cell_type": "code",
      "metadata": {
        "id": "s3wUqw25t_nf"
      },
      "source": [
        ""
      ],
      "execution_count": null,
      "outputs": []
    }
  ]
}